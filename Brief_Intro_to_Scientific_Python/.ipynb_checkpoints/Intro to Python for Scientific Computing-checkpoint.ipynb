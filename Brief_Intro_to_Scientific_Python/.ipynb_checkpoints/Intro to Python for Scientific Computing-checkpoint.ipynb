{
 "cells": [
  {
   "cell_type": "markdown",
   "metadata": {},
   "source": [
    "# A (very short) Introduction to Python for Scientific Computations\n",
    "\n",
    "This notebook is meant as a very short and entirely incomplete introduction to Python. Python may be useful to you in your class projects or your research.  Many multi-scale modeling tools within this course (e.g. [CellBlender](https://mcell.org) & [Continuity](https://continuity.ucsd.edu)) and in the broader community (e.g. [FEniCS](https://fenicsproject.org) & [tellerium](http://tellurium.analogmachine.org/)) use python.   The goal is to give those unfamiliar with Python a quick introduction to the syntax and enable us to work through the python based material over the next two lectures.\n",
    "\n",
    "This material is written in the format of a *Jupyter Notebook*, which we will also explain briefly.\n",
    "\n",
    "The main topics covered in the notebook are\n",
    "* variables and types\n",
    "* importing and using packages\n",
    "* if-tests\n",
    "* while-loops and for-loops\n",
    "* plotting\n",
    "* defining functions\n",
    "* solving a differential equation numerically\n",
    "\n",
    "We might not have a chance to get through all the topics in detail in the live sessions, so feel free to also use this notebook as a reference. If there are specific topics you want to learn more about, or cover more in detail, please do not hesitate to let us know, and we will try to be accommodating. \n",
    "\n",
    "**Additional Resources**\n",
    "\n",
    "[Brief tutorials on scientific python by Hans Petter Langtangen and Leif Rune Hellevik (Jupyter Notebooks)](https://github.com/hplgit/bumpy). \n",
    "\n",
    "[Scientific python lectures by Robert Johansson (Jupyter Notebooks)](https://github.com/jrjohansson/scientific-python-lectures)\n",
    "\n",
    "[Introduction to Numerical Computing with NumPy (youtube)](https://www.youtube.com/watch?v=ZB7BZMhfPgk)\n",
    "\n",
    "[Scientific Computing with Python 2019 Conference (video & Jupyter notebooks)](https://www.scipy2019.scipy.org/tutorial-participant-instructions)"
   ]
  },
  {
   "cell_type": "markdown",
   "metadata": {},
   "source": [
    "---\n",
    "\n",
    "## *Brief Detour* \n",
    "\n",
    "[<img src=\"fig/sscplogo_dark_blue.png\" width=400>](https://www.simula.no/education/courses/simula-summer-school-computational-physiology)\n",
    "\n",
    "Acknowledgement: The material in the next two days is partially derived from material developed for the [Simula Summer School in Computational Physiology]((https://www.simula.no/education/courses/simula-summer-school-computational-physiology)).  These are available open source and being prepared for a forthcoming edition of the [Simula SpringerBriefs on Computing](https://www.springer.com/series/13548).\n",
    "\n",
    "This annual summer school is tailored for postgraduate students (MSc and early PhD-level students) and includes::\n",
    "- The opportunity to perform cutting edge research with the world's leading researchers in their fields\n",
    "- A focus on cardiovascular mechanics, cardiac electrophysiology, and neural electrophysiology applications\n",
    "- 2 weeks of formal lectures and project work in June (at Simula Research Laboratory in Oslo, Norway)\n",
    "- 1.5 weeks of workshops, joint project work, and a final presentation in August (at the University of California, San Diego, USA)\n",
    "- A two-day Nature Masterclasses workshop in scientific writing and publishing presented by two editors from the Nature journals.\n",
    "- Varied and engaging in social activities\n",
    "\n",
    "The [application](https://www.simula.no/education/courses/summer-school-computational-physiology/application-sscp)  was due Feb. 22nd, but if this course looks interesting, fits with your research goals, and you can dedicate the time required over the summer, send me an email.  I spoke with the summer school director and we might be able to submit late applications.  The application is competitive and admission is not guarenteed.\n",
    "\n",
    "\n",
    "\n",
    "<img src=\"fig/oslo.png\" width=600>\n",
    "\n",
    "---"
   ]
  },
  {
   "cell_type": "markdown",
   "metadata": {},
   "source": [
    "# What is Python?\n",
    "[Python](http://www.python.org/) is a modern, general-purpose, object-oriented, high-level programming language.\n",
    "\n",
    "General characteristics of Python:\n",
    "\n",
    "* **clean and simple language:** Easy-to-read and intuitive code, easy-to-learn minimalistic syntax, maintainability scales well with size of projects.\n",
    "* **expressive language:** Fewer lines of code, fewer bugs, easier to maintain.\n",
    "\n",
    "Technical details:\n",
    "\n",
    "* **dynamically typed:** No need to define the type of variables, function arguments or return types.\n",
    "* **automatic memory management:** No need to explicitly allocate and deallocate memory for variables and data arrays. No memory leak bugs. \n",
    "* **interpreted:** No need to compile the code. The Python interpreter reads and executes the python code directly.\n",
    "\n",
    "Advantages:\n",
    "\n",
    "* The main advantage is ease of programming, minimizing the time required to develop, debug and maintain the code.\n",
    "* Well designed language that encourage many good programming practices:\n",
    " * Modular and object-oriented programming, good system for packaging and re-use of code. This often results in more transparent, maintainable and bug-free code.\n",
    " * Documentation tightly integrated with the code.\n",
    "* A large standard library, and a large collection of add-on packages.\n",
    "\n",
    "Disadvantages:\n",
    "\n",
    "* Since Python is an interpreted and dynamically typed programming language, the execution of python code can be slow compared to compiled statically typed programming languages, such as C and Fortran. \n",
    "* Somewhat decentralized, with different environment, packages and documentation spread out at different places. Can make it harder to get started."
   ]
  },
  {
   "cell_type": "markdown",
   "metadata": {},
   "source": [
    "# What makes python suitable for scientific computing?\n",
    "\n",
    "* Python has a strong position in scientific computing: \n",
    "    * Large community of users, easy to find help and documentation.\n",
    "\n",
    "* Extensive ecosystem of scientific libraries and environments\n",
    "    * [numpy](http://numpy.scipy.org) - the fundamental package for numerical computation. It defines the numerical array and matrix types and basic operations on them.\n",
    "    * [scipy](http://www.scipy.org) -  a collection of numerical algorithms and domain-specific toolboxes, including signal processing, optimization, statistics, and much more.\n",
    "    * [matplotlib](http://www.matplotlib.org ) -  a mature and popular plotting package that provides publication-quality 2-D plotting, as well as rudimentary 3-D plotting.\n",
    "    * [pandas](http://pandas.pydata.org/) -  providing high-performance, easy-to-use data structures.\n",
    "    * [SymPy](http://www.sympy.org/) - for symbolic mathematics and computer algebra.\n",
    "    * [scikit-image](http://scikit-image.org/) - a collection of algorithms for image processing.\n",
    "    * [scikit-learn](http://scikit-learn.org/) - a collection of algorithms and tools for machine learning.\n",
    "    * [h5py](http://www.h5py.org/) and [PyTables](http://www.pytables.org/) - providing access to data stored in HDF5 format.\n",
    "\n",
    "* Great performance due to close integration with time-tested and highly optimized codes written in C and Fortran:\n",
    "    * blas, atlas blas, lapack, arpack, Intel MKL, ...\n",
    "\n",
    "* Good support for \n",
    "    * Parallel processing with processes and threads\n",
    "    * Interprocess communication (MPI)\n",
    "    * GPU computing (OpenCL and CUDA)\n",
    "\n",
    "* Readily available and suitable for use on high-performance computing clusters. \n",
    "\n",
    "* No license costs, no unnecessary use of research budget."
   ]
  },
  {
   "cell_type": "markdown",
   "metadata": {},
   "source": [
    "## Installing Python on your Machine\n",
    "\n",
    "For the next two lectures, you will be using UCSD's datahub to run python based Jupyter notebooks in the cloud. But if you want to run Python locally on your own machine you will need a Python installation. Python is an open source project, and different implementations and versions exist. In addition, if you want to use it for scientific programming, there are plenty of additional packages to install as well. Collectively, we refer to a given installation as a *Python Environment*.\n",
    "\n",
    "Setting up and configuring Python environments can be tricky for beginners, in which case we recommend installing a specific distribution meant for scientific programming, so things are properly configured from the start. We recommend using the *Anaconda* distribution. Downloading Anaconda will give you an up-to-date Python interpreter, most scientific packages you will need, a package manager to download any other packages you might want to download and other important tools such as *Jupyter*. You can download the Anaconda installer from\n",
    "* [https://www.anaconda.com/download/](https://www.anaconda.com/download/)\n",
    "\n",
    "Be sure to pick the version specific to your operating system (Linux/Windows/Mac OS), and select Python 3.7. The only reason to pick the older version, Python 2.7, is because one is working on old code bases.\n",
    "\n",
    "Once you have anaconda you can customize your python enviroment by adding new packages either through the the official Anaconda Navigator, with community developed packages at [Conda-forge](https://conda-forge.org), or with [PIP](https://pypi.org/project/pip/).  Adding packages and configuring a python enviroment properly can get tedious and error prone. Try to rely on anaconda as much as you can, and take the time to educate yourself about the different package distributiuon methods to avoid currupting your python enviroment and repeatidly reinstalling Anaconda."
   ]
  },
  {
   "cell_type": "markdown",
   "metadata": {},
   "source": [
    "#### Picking an Editor\n",
    "\n",
    "When you downlaod Anaconda you get a fresh Python 3.7 installation, with most scientific programming packages you will needed included. In addition, you get some additional tools, such as an IPython interactive shell, an editor called Spyder, and a tool called *Jupyter*. Jupyter is what we will use in this course, though you do not need to install Anaconda to run our notebooks.\n",
    "\n",
    "To write and run your Python code, you will need to write it in some text editor. Here you can choose to use the editor included with Anaconda, [*Spyder*](https://www.spyder-ide.org/). Spyder is technically an IDE (interactive developer environment), meaning it has a lot of added functionality in addition to being just a simple editor. However, if you are fairly new to programming, and don't have a \"favorite\" editor - feel free to start coding with Spyder.  Spyder has some functionality that is similar to Matlab in that it allows you to see the variables in your workspace and interactive debugging.\n",
    "\n",
    "<img src=\"fig/spyder_editor.png\" width=600>\n",
    "<center><b>Figure:</b> A Screengrab of the Spyder editor that comes with Anaconda. Spyder is an IDE, meaning it has tons of extra functionality. Some people love this, and find it easy to work with, others prefer to use something more minimalistic.</center>\n",
    "\n",
    "If you are already used to using a given editor, or want a simpler or different editor than Spyder, there are many options. Popular choices for Python scripting are [Sublime Text](https://www.sublimetext.com/) and [Atom](https://atom.io/). If you want an IDE, but don't like Spyder, another popular choice is [PyCharm](https://www.jetbrains.com/pycharm/).\n",
    "\n",
    "Another alternative altogether is to use *Jupyter Notebooks*, a tool that allows for combining traditional text with code that is executable. Jupyter is an alternative to a traditional editor, where we get more interactive tools. Jupyter has become a popular way to work with Python scripting, especially for data science, where data can be explored more interactively while working with it.\n",
    "\n",
    "In this course, we present the material in Jupyter notebooks. For your own project work, you can work in notebooks as well, or you could use Spyder or another editor of your own preference."
   ]
  },
  {
   "cell_type": "markdown",
   "metadata": {},
   "source": [
    "### A Quick Introduction to Jupyter Notebooks\n",
    "\n",
    "In Jupyter, files are known as *notebooks*, and are saved on your computer as `.ipynb` files. These are not traditional scripts or programs, but rather a combination of rich text, math, figures and code all contained in the same file. You interact with this file through your browser, which enables many interesting features.\n",
    "\n",
    "In the next two lectures, you will interact with Jupyter notebooks through distributed computing, this means that when you execute code, it will run distributed in the cloud (UCSD's datahub cluster, to be specific). You can also use and run Jupyter locally on your machine, in which case it starts a kernel behind the scenes, and uses your default browser to interact with this kernal.\n",
    "\n",
    "#### The Dashboard \n",
    "\n",
    "When you start a new session, you will first enter the dashboard, where you can navigate to an existing notebook, or create a brand new one. Note this is the first time I've used datahub.ucsd.edu, and I am not entirely certain what material will save between sessions.  You can always pull the repository to your personal computer to keep a copy.\n",
    "\n",
    "#### Notebook Cells\n",
    "\n",
    "In notebooks, everything consists of cells, which are either *markdown cells*, which can contain text, math, figures, and so on, or they are *code cells*, which contain Python code which can be executed.\n",
    "\n",
    "When navigating through a notebook, you will always be in one of two modes. Either you are actively making edits to an existing cell, this is known as *edit mode*. When you are in edit mode, the cell you are currently editing is marked in a green box, and you have a blinking cursor inside the cell.\n",
    "\n",
    "<img src=\"fig/edit_mode.png\" width=600>\n",
    "<center>A cell in edit mode.</center>\n",
    "\n",
    "When we are not actively editing a cell, we are in *command mode*. We see we are in command mode because the active cell is marked in a blue box, not a green one, and there is no cursor. When in command mode, pressing the keyboard will invoke commands through keyboard shortcuts, such as generating new cells.\n",
    "\n",
    "<img src=\"fig/command_mode.png\" width=600>\n",
    "<center>A cell in command mode.</center>\n",
    "\n",
    "When in command mode, you can enter edit mode on a given cell by double clicking it, or by pressing enter. When in edit mode, you can exit by clicking outside the cell with your cursor, or by pressing escape."
   ]
  },
  {
   "cell_type": "markdown",
   "metadata": {},
   "source": [
    "#### Example: Creating and running a code cell\n",
    "\n",
    "Let us generate a code cell, write some code, and then run it. First we need to generate a new cell. Here you can either press the `+` button in the toolbar on the top, or simply use the keyboard shortcut `b`. This will generate a new cell. We see that the cell is a code cell, because it has the stylized `In []` to its left."
   ]
  },
  {
   "cell_type": "code",
   "execution_count": null,
   "metadata": {},
   "outputs": [],
   "source": []
  },
  {
   "cell_type": "markdown",
   "metadata": {},
   "source": [
    "You can now click the empty cell to enter edit mode, and start writing some Python code. Now, we haven't started looking at Python code yet, so let us start with the simplest possible example, a `print` command:"
   ]
  },
  {
   "cell_type": "code",
   "execution_count": 1,
   "metadata": {},
   "outputs": [
    {
     "name": "stdout",
     "output_type": "stream",
     "text": [
      "Hello, World!\n"
     ]
    }
   ],
   "source": [
    "print(\"Hello, World!\")"
   ]
  },
  {
   "cell_type": "markdown",
   "metadata": {},
   "source": [
    "We have now entered some code into our cell, but if we simply exit edit-mode, the code will not run automatically. To run code inside the notebook, we must *execute* a given code cell. You can do this either by clicking the `Run` command in the toolbar at the top, or use the more efficient keyboard shortcuts `Ctrl+Enter` or `Shift+Enter`.\n",
    "\n",
    "When you execute a cell like this, all the code inside the cell is executed and the output is printed immediately below the cell. In addition, the `In []:` will update to note which execution this was in the notebook, as this is the first cell we execute, it will become `In [1]:`."
   ]
  },
  {
   "cell_type": "code",
   "execution_count": 2,
   "metadata": {},
   "outputs": [
    {
     "name": "stdout",
     "output_type": "stream",
     "text": [
      "Hello, World!\n"
     ]
    }
   ],
   "source": [
    "print(\"Hello, World!\")"
   ]
  },
  {
   "cell_type": "markdown",
   "metadata": {},
   "source": [
    "#### Execution order of cells\n",
    "\n",
    "One element of notebooks that can be a bit confusing to beginners and experts alike is that a notebook is one big interactive session. This means that variables and results are remembered after running a cell, and can be used further down in a notebook, in different code cells.\n",
    "\n",
    "However, when shutting down the notebook altogether and reloading it, this interactive data is forgotten. When opening a notebook, one can often *not* run a single cell in the middle or towards the end of the notebook, rather, one should run all the cells in the notebook from the start. A helpful tool here is to use the `Cell` > `Run all` option from the toolbar,  which will run all cells in order, and load everything into memory. Alternatively you can use the `Kernel` > `Restart and Run All` if you want to completely reset and then run all cells in order."
   ]
  },
  {
   "cell_type": "markdown",
   "metadata": {},
   "source": [
    "#### A more thorough introduction to Jupyter Notebooks\n",
    "\n",
    "We will now start moving into the actual programming. If you want a more detailed introduction to Jupyter, you can take a look at [this guide to Jupyter basics](https://jupyter-notebook.readthedocs.io/en/stable/examples/Notebook/Notebook%20Basics.html) by the original creators."
   ]
  },
  {
   "cell_type": "markdown",
   "metadata": {},
   "source": [
    "## A Scientific \"Hello, World!\" Program\n",
    "\n",
    "Traditionally, the first program one creates when learning a new programming language, is the so-called \"Hello, World!\"-program, which should just write out a message to the consol. In Python, this task is very easy, we simply use the `print`-command as shown above:\n"
   ]
  },
  {
   "cell_type": "code",
   "execution_count": 3,
   "metadata": {},
   "outputs": [
    {
     "name": "stdout",
     "output_type": "stream",
     "text": [
      "Hello, World!\n"
     ]
    }
   ],
   "source": [
    "print(\"Hello, World!\")"
   ]
  },
  {
   "cell_type": "markdown",
   "metadata": {},
   "source": [
    "The command `print()` is a built-in function that writes the output to the screen or console. When calling functions, we need to put the input in parenthensis, and as we are printing out a text-based message, we need to put it in quotes to mark it as a *text string* (more on this later). In Python you can use either single-quotes, or double-quotes (``` or `\"`), as long as you put the same character on both ends."
   ]
  },
  {
   "cell_type": "markdown",
   "metadata": {},
   "source": [
    "The \"Hello, World!\" program isn't terribly exciting, so let us instead do a more scientific varient, where we compute some simple expression and write out the results. As a recurring example, we will use the mathematical formula\n",
    "$$s(t) = v_0 t + \\frac{1}{2}at^2,$$\n",
    "Where $s$ is the distance traveled by an object after time $t$ with a constant acceleration $a$, starting with an initial velocity $v_0$.\n",
    "\n",
    "As an example, let us compute the distance travelered for $t = 0.5$, $v_0=2$ and $a=0.2$."
   ]
  },
  {
   "cell_type": "code",
   "execution_count": 4,
   "metadata": {},
   "outputs": [],
   "source": [
    "t = 0.5\n",
    "v0 = 2\n",
    "a = 0.2\n",
    "s = v0*t + 0.5*a*t**2"
   ]
  },
  {
   "cell_type": "markdown",
   "metadata": {},
   "source": [
    "Here we first assign the three variables `t`, `v0` and `a`. Then we assign the variable `s` based on our other variables by doing some arithmetic. An assignment on the form of the final line is interpreted as follows:\n",
    "* Evaluate the right-hand side of the `=` symbol, this results in an *object*\n",
    "* The left hand side is a name for that object\n",
    "\n",
    "In this case, the result of the computation is a number, and `s` becomes a name for that number. But how do we check what `s` is? We use the `print`-statement, just like before."
   ]
  },
  {
   "cell_type": "code",
   "execution_count": 5,
   "metadata": {},
   "outputs": [
    {
     "name": "stdout",
     "output_type": "stream",
     "text": [
      "1.025\n"
     ]
    }
   ],
   "source": [
    "print(s)"
   ]
  },
  {
   "cell_type": "markdown",
   "metadata": {},
   "source": [
    "Note that `s` is now a name pointing at a number object with a value of 1.025. The variable `s` only remembers the result of the computation, it does not remember \"where it came from\" so to say. This means that if we for example reassign `t`, `s` will *not* change."
   ]
  },
  {
   "cell_type": "markdown",
   "metadata": {},
   "source": [
    "##### Your Turn\n",
    "\n",
    "Repeat this example, but with the values $t = 1.2$, $v_0 = 4$ and $a = -0.1$.\n"
   ]
  },
  {
   "cell_type": "code",
   "execution_count": 6,
   "metadata": {},
   "outputs": [],
   "source": [
    "# Write your code here..."
   ]
  },
  {
   "cell_type": "markdown",
   "metadata": {},
   "source": [
    "Also verify that the result does not change if you change one of the arguments *after* performing the computation."
   ]
  },
  {
   "cell_type": "markdown",
   "metadata": {},
   "source": [
    "### Python as a calculator\n",
    "\n",
    "Our scientific \"Hello, World!\" example contained a simple computation, and using Python like a simple calculator like this can often be useful. Let's quickly go through all the basic mathematical operations and how they work in Python.\n",
    "\n",
    "The following basic arithmetic operations are built into Python, you can use them whenever:\n",
    "\n",
    "| Operation        | Math          | Python |\n",
    "| ---------------- | ------------- | ------ |\n",
    "| Addition         | $a + b$         | `a + b` |\n",
    "| Subtraction      | $a-b$         | `a - b`|\n",
    "| Multiplication   | $ab$          | `a*b`  |\n",
    "| Division         | $\\frac{a}{b}$ | `a/b`  |\n",
    "| Power            | $a^b$         | `a**b` |\n",
    "| Integer Division | $\\lfloor \\frac{a}{b} \\rfloor$ | `a//b`\n",
    "| Modulo           | $a \\mbox{ mod } b$ | `a % b` |\n",
    "| Absolute value   | $|a|$      | `abs(a)` |\n",
    "\n",
    "<center><b>Table:</b> Important built-in mathematical operations and their Python syntax.</center>\n",
    "\n",
    "A few things to note here are:\n",
    "* Extra whitespace around the operators or variables has no impact on the code, you can therefore add extra spaces however you prefer\n",
    "* Taking `a` to the power of `b` is written like `a**b`, not `a^b` like in for example Matlab.\n",
    "* Dividing `a/b`, even when both are integers, will produce decimals, unlike for example C/C++. (This worked differently in Python 2)"
   ]
  },
  {
   "cell_type": "code",
   "execution_count": 7,
   "metadata": {},
   "outputs": [
    {
     "name": "stdout",
     "output_type": "stream",
     "text": [
      "0.4\n"
     ]
    }
   ],
   "source": [
    "print(2/5)"
   ]
  },
  {
   "cell_type": "markdown",
   "metadata": {},
   "source": [
    "#### Importing additional mathematical functions\n",
    "\n",
    "The built-in operations only cover the most fundamental arithmetic operations. If we want more complex operations, such as roots, exponentials or trigonometry, we need to *import* this functionality. The standard package `math` contains all common mathematical functions, and if we need something a bit rarerer, other packages exist that probably contain them, more on this later.\n",
    "\n",
    "To import a function from a given package, you can write it as follows:"
   ]
  },
  {
   "cell_type": "code",
   "execution_count": 8,
   "metadata": {},
   "outputs": [
    {
     "data": {
      "text/plain": [
       "9.0"
      ]
     },
     "execution_count": 8,
     "metadata": {},
     "output_type": "execute_result"
    }
   ],
   "source": [
    "from math import sqrt\n",
    "\n",
    "sqrt(81)"
   ]
  },
  {
   "cell_type": "markdown",
   "metadata": {},
   "source": [
    "Or you can instead import the whole package as follows:"
   ]
  },
  {
   "cell_type": "code",
   "execution_count": 9,
   "metadata": {},
   "outputs": [
    {
     "data": {
      "text/plain": [
       "9.0"
      ]
     },
     "execution_count": 9,
     "metadata": {},
     "output_type": "execute_result"
    }
   ],
   "source": [
    "import math\n",
    "\n",
    "math.sqrt(81)"
   ]
  },
  {
   "cell_type": "markdown",
   "metadata": {},
   "source": [
    "There is third option, which is to import everything from a given package. This can be done by writing\n",
    "```Python\n",
    "from math import *\n",
    "```\n",
    "This is known as a *wildcard* import, the `*` means we want to import everything contained in the `math` library.\n",
    "\n",
    "In general, such wildcards imports, where we import everything at once, is discouraged. This is because it becomes unclear what functions come from which packages, which can be a big problem for larger codes and programs. *However*, if you are coming from a matlab background, where you are used to having everything available, the package `pylab` tries to somewhat emulate the feeling of matlab, in which case you can do a wildcard import of the type\n",
    "```Python\n",
    "from pylab import *\n",
    "```\n",
    "In the top of your program, and then simply freely use a large number of functions for computing, analyzing and plotting.\n",
    "\n"
   ]
  },
  {
   "cell_type": "markdown",
   "metadata": {},
   "source": [
    "Some of the functions contained in the `math`-package (and `pylab`) are\n",
    "\n",
    "| Function         | Math          | Python |\n",
    "| ---------------- | ------------- | ------ |\n",
    "| Square root      | $\\sqrt{x}$    | `sqrt(x)` |\n",
    "| Exponential function  | $e^x$         | `exp(x)` |\n",
    "| Natural logarithm  | $\\ln x$     | `log(x)`|\n",
    "| Base-10 logarithm | $\\log x$     | `log10(x)` | \n",
    "| Base-2 logarithm | $\\log_2 x$ | `log2(x)`|\n",
    "| General base logarithm | $\\log_b x$ | `log(x, b)` |\n",
    "| Sine | $\\sin x$ | `sin(x)` |\n",
    "| Inverse Sine | $\\arcsin x$ | `asin(x)` |\n",
    "| Hyperbolic Sine | $\\sinh x$ | `sinh(x)` |\n",
    "| Factorial | $n!$ | `factorial(n)` |\n",
    "\n",
    "<center><b>Table:</b> Common mathematical functions that can be imported from the <tt>math<tt> package.</center>\n",
    "\n",
    "A few things to note:\n",
    "* All functions in Python are always called with parenthesis on the argument, even if the mathematical notion doesn't always use this\n",
    "* The trigonometric functions are defined in *radians*\n",
    "* Cosine and tangent are named similarily to the Sine, but with `cos` and `tan` instead of `sin`.\n",
    "* This list is not comprehensive. For a full overview of the `math` package, look at the [official reference](https://docs.python.org/3/library/math.html).\n",
    "\n",
    "In addition to these functions, `math` also contains common constants, such as $\\pi$ and $e$"
   ]
  },
  {
   "cell_type": "code",
   "execution_count": 10,
   "metadata": {},
   "outputs": [
    {
     "name": "stdout",
     "output_type": "stream",
     "text": [
      "3.141592653589793\n",
      "2.718281828459045\n"
     ]
    }
   ],
   "source": [
    "from math import pi, e\n",
    "\n",
    "print(pi)\n",
    "print(e)"
   ]
  },
  {
   "cell_type": "markdown",
   "metadata": {},
   "source": [
    "##### Your Turn"
   ]
  },
  {
   "cell_type": "markdown",
   "metadata": {},
   "source": [
    "Using Python as a calculator, compute the following expressions: \n",
    "1. $\\frac{4\\pi}{3}$\n",
    "2. $12!$\n",
    "3. $e^4 \\cos(\\frac{3\\pi}{2})$\n"
   ]
  },
  {
   "cell_type": "code",
   "execution_count": 11,
   "metadata": {},
   "outputs": [],
   "source": [
    "# Your code here..."
   ]
  },
  {
   "cell_type": "markdown",
   "metadata": {},
   "source": [
    "#### Scientific Notation\n",
    "\n",
    "One final note on using Python to perform computations is that Python supports scientific notation which can be helpful when defining very large or very small numbers. To do this, use the shorthand `e`, for example:"
   ]
  },
  {
   "cell_type": "code",
   "execution_count": 12,
   "metadata": {},
   "outputs": [
    {
     "name": "stdout",
     "output_type": "stream",
     "text": [
      "2400.0\n"
     ]
    }
   ],
   "source": [
    "print(2.4e3)"
   ]
  },
  {
   "cell_type": "code",
   "execution_count": 13,
   "metadata": {},
   "outputs": [
    {
     "name": "stdout",
     "output_type": "stream",
     "text": [
      "0.00033\n"
     ]
    }
   ],
   "source": [
    "print(3.3e-4)"
   ]
  },
  {
   "cell_type": "markdown",
   "metadata": {},
   "source": [
    "Where `2.4e3` means $2.4\\cdot 10^3$, and `3.3e-4` means $3.3\\cdot10^{-4}.$\n",
    "\n",
    "Note that the same notation is used in output as well."
   ]
  },
  {
   "cell_type": "code",
   "execution_count": 14,
   "metadata": {},
   "outputs": [
    {
     "name": "stdout",
     "output_type": "stream",
     "text": [
      "3.328e-06\n"
     ]
    }
   ],
   "source": [
    "print(6.4e2 * 5.2e-9)"
   ]
  },
  {
   "cell_type": "markdown",
   "metadata": {},
   "source": [
    "When doing physiological modeling, it is important to keep track of and be consistent in the choice of units, and using compact scientific notation can often be helpful to keep your code neat and readable."
   ]
  },
  {
   "cell_type": "markdown",
   "metadata": {},
   "source": [
    "## Variables and Data Types\n",
    "\n",
    "Let us return to our recurring example. The computation\n",
    "$$s(t) = v_0 t + \\frac{1}{2}at^2.$$\n",
    "We performed a computation by defining four variables:"
   ]
  },
  {
   "cell_type": "code",
   "execution_count": 15,
   "metadata": {},
   "outputs": [],
   "source": [
    "t = 0.5\n",
    "v0 = 2\n",
    "a = 0.2\n",
    "s = v0*t + 0.5*a*t**2"
   ]
  },
  {
   "cell_type": "markdown",
   "metadata": {},
   "source": [
    "Here, we are defining the variables `t`, `v0`, `a` and `s`. Note that we do not have to declare the type of the variables as we make them, Python does this for us. This is different from some other programming languages like Java and C, where you always need to declare the types.\n",
    "\n",
    "Even though we do note declare the types, note that any variable has a given *data type*. You can check the type of a variable with the `type()`-function."
   ]
  },
  {
   "cell_type": "code",
   "execution_count": 16,
   "metadata": {},
   "outputs": [
    {
     "name": "stdout",
     "output_type": "stream",
     "text": [
      "<class 'float'>\n",
      "<class 'int'>\n",
      "<class 'float'>\n",
      "<class 'float'>\n"
     ]
    }
   ],
   "source": [
    "print(type(t))\n",
    "print(type(v0))\n",
    "print(type(a))\n",
    "print(type(s))"
   ]
  },
  {
   "cell_type": "markdown",
   "metadata": {},
   "source": [
    "We see that `v0` has become an `int`, meaning an integer variable, while the other three variables have become `float`s. A [`float`](https://en.wikipedia.org/wiki/Floating-point_arithmetic) is a decimal number, but because computers cannot accuretly represent arbitrary decimal numbers, we call them floating-point numbers because they have small inaccuracies. \n",
    "\n",
    "There are many other types of built-in data types in Python. Some common ones, that exist in almost any programming language are\n",
    "\n",
    "| Name | Python type | Example values |\n",
    "| ---- | ----------- | ----------- |\n",
    "| Boolean | `bool`   | `True`/`False` |\n",
    "| Integer | `int`    | `4`            |\n",
    "| Floating-point | `float` | `3.1415` |\n",
    "| Complex number | `complex` | `2.5 + 4j` | \n",
    "| Text String    | `str`  | `Hello, World!` |\n",
    "\n",
    "These are the most basic data types in Python, they each consist of one specific value. In addition, there are many built-in datatypes for storing *collections* of values (more on this later). Some of these are\n",
    "\n",
    "| Name | Python Type | Example | \n",
    "| ---- | ----------- | ------- |\n",
    "| Tuple | `tuple`    | `(0, 0, 1)`\n",
    "| Lists | `list`     | `[2, -3, 5, 8]` |\n",
    "| Dictionary | `dict` | `{a: -9.81, v0: 5.2}` |\n",
    "| Set    | `set` | `set([2, 3, 5, 8, 11])` |\n",
    "\n",
    "These built-in containers are useful for storing larger sets of data. They behave differently, so knowing what the different ones do is useful, but more on this later.\n",
    "\n",
    "There are plenty more data types that are built-in in Python, and through the use of packages there are plenty more. The most important one to be aware of here is the `numpy`-array, which is used for representing vectors or matrices, and is especially made for performing fast, numerical computations. This is the structure we will use the most during our course.\n",
    "\n",
    "It is also possible to define your own data structures through the use of classes, which is referred to as object-oriented programming, but we won't cover this in this course."
   ]
  },
  {
   "cell_type": "markdown",
   "metadata": {},
   "source": [
    "## Print Formatting\n",
    "\n",
    "So far, we have seen how we can define variables, perform simple computations, and to look at the results through `print`. However, sometimes we want more control over how the output from `print` is formatted, we accomplish this through the process of print-formatting.\n",
    "\n",
    "We have already seen that we can simply `print` variables to see their value"
   ]
  },
  {
   "cell_type": "code",
   "execution_count": 17,
   "metadata": {},
   "outputs": [
    {
     "name": "stdout",
     "output_type": "stream",
     "text": [
      "0.5\n",
      "1.025\n"
     ]
    }
   ],
   "source": [
    "print(t)\n",
    "print(s)"
   ]
  },
  {
   "cell_type": "markdown",
   "metadata": {},
   "source": [
    "While this is very straight-forward and works well, we often want to write out a more descriptive message. We can do this by writing a string where we insert the values of given variables. This can be done through *formatted strings*, also known as \"f-strings\". "
   ]
  },
  {
   "cell_type": "code",
   "execution_count": 18,
   "metadata": {},
   "outputs": [
    {
     "name": "stdout",
     "output_type": "stream",
     "text": [
      "After 0.5 seconds, the object has traveled 1.025 meters\n"
     ]
    }
   ],
   "source": [
    "print(f\"After {t} seconds, the object has traveled {s} meters\")"
   ]
  },
  {
   "cell_type": "markdown",
   "metadata": {},
   "source": [
    "Note that we write a `f` (or `F`) immediately before the opening quotes of the string. When this is done, we can insert variables directly into the string with curly braces."
   ]
  },
  {
   "cell_type": "markdown",
   "metadata": {},
   "source": [
    "When using f-strings, you can control more details on the printing of each individual variable by throwing on a format specification after the variable:"
   ]
  },
  {
   "cell_type": "code",
   "execution_count": 19,
   "metadata": {},
   "outputs": [
    {
     "name": "stdout",
     "output_type": "stream",
     "text": [
      "After 0.50 seconds, the object has traveled 1.0 meters\n"
     ]
    }
   ],
   "source": [
    "print(f\"After {t:.2f} seconds, the object has traveled {s:.1f} meters\")"
   ]
  },
  {
   "cell_type": "markdown",
   "metadata": {},
   "source": [
    "Where we specify that we want the time written out with two decimals by writing (`t:.2f`). Here the `f` means that we are printing a float variable, and the `.2` means two decimals. Similarly, we print out `s` with a single decimal."
   ]
  },
  {
   "cell_type": "markdown",
   "metadata": {},
   "source": [
    "When printing with a given number of decimals, Python will round our number for us."
   ]
  },
  {
   "cell_type": "code",
   "execution_count": 20,
   "metadata": {},
   "outputs": [
    {
     "name": "stdout",
     "output_type": "stream",
     "text": [
      "2.144\n",
      "2.14\n"
     ]
    }
   ],
   "source": [
    "x = 2.1436\n",
    "print(f\"{x:.3f}\")\n",
    "print(f\"{x:.2f}\")"
   ]
  },
  {
   "cell_type": "markdown",
   "metadata": {},
   "source": [
    "Note that when rounding to three decimals, we round up, while for two decimals, we round down.\n",
    "\n",
    "However, Python uses a convention known as [*bankers' rounding*](https://en.wikipedia.org/wiki/Rounding), in which a .5 is rounded down if the preceeding number is even, and up if it is odd. This is becoming the standard way to round numbers for large data sets, as the \"normal\" convention of rounding .5 up will give a slight bias in the long run."
   ]
  },
  {
   "cell_type": "markdown",
   "metadata": {},
   "source": [
    "When using print-formatting, you can also write numbers out in different formats, such as scientific notation for example:"
   ]
  },
  {
   "cell_type": "code",
   "execution_count": 21,
   "metadata": {},
   "outputs": [
    {
     "name": "stdout",
     "output_type": "stream",
     "text": [
      "4.2e+04\n"
     ]
    }
   ],
   "source": [
    "n = 41828\n",
    "print(f\"{n:.1e}\")"
   ]
  },
  {
   "cell_type": "markdown",
   "metadata": {},
   "source": [
    "The format specificer `.1e` says that we want to write the number out in scientific notation with a single decimal\n",
    "\n",
    "The specifier `g` is often convenient, as it will print the number out as a float for numbers close to $1$, but for very small numbers, or very large numbers, it will instead use scientific notation.\n",
    "\n",
    "Another useful specifier is `%`, which converts a ratio to a percentage for us. Say we have performed 913 trials, with 642 succsessful trials, then we could for example write:"
   ]
  },
  {
   "cell_type": "code",
   "execution_count": 22,
   "metadata": {},
   "outputs": [
    {
     "name": "stdout",
     "output_type": "stream",
     "text": [
      "Succsess rate: 70.3%\n"
     ]
    }
   ],
   "source": [
    "succsess = 642\n",
    "total = 913\n",
    "print(f\"Succsess rate: {succsess/total:.1%}\")"
   ]
  },
  {
   "cell_type": "markdown",
   "metadata": {},
   "source": [
    "#### More on Print Formatting\n",
    "\n",
    "For more information on print formatting, you can take a look at this more [comprehensive introduction](https://docs.python.org/3/tutorial/inputoutput.html)."
   ]
  },
  {
   "cell_type": "markdown",
   "metadata": {},
   "source": [
    "##### Your turn\n",
    "\n",
    "The volume of a sphere is given by\n",
    "$$V = \\frac{4\\pi R^3}{3}.$$\n",
    "A normal football (regulation size 5 to be specific) has a radius of 11 cm. \n",
    "\n",
    "Compute the volume of a football and print it out with a single decimal."
   ]
  },
  {
   "cell_type": "code",
   "execution_count": 23,
   "metadata": {},
   "outputs": [],
   "source": [
    "# Fill in your code here"
   ]
  },
  {
   "cell_type": "markdown",
   "metadata": {},
   "source": [
    "If you did not convert units, your answer will be in cm$^3$, but this is not a very intuitive quantity. Convert your answer so that it instead is printed out in number of liters, still with a single decimal. Recall that 1 dm$^3$ is one liter."
   ]
  },
  {
   "cell_type": "code",
   "execution_count": 24,
   "metadata": {},
   "outputs": [],
   "source": [
    "# Fill in your code here"
   ]
  },
  {
   "cell_type": "markdown",
   "metadata": {},
   "source": [
    "## If-tests\n",
    "\n",
    "An if-test allows us to endow our programs and code with logic, where it can check if some condition is met, and carry out special tasks only if something is a given.\n",
    "\n",
    "The normal syntax of a simple if-test in Python is\n",
    "```Python\n",
    "if <condition>:\n",
    "    <do something>\n",
    "```\n",
    "Here, `<condition>` is anything that can be evaluated to either True, or False. If the condition is true, then the code inside the test, which you can note because it has been given an *indentation*.\n",
    "\n",
    "The term indentation means the code lines are moved slightly in from the left hand side. This is acomplished by using the `Tab` key on the keyboard (or `Shift+Tab` to remove indentation). Most editors will however automatically add the indentation.\n",
    "\n",
    "The indented code will happen only if the condition is met. If the condition evaluates to false, then the test-block is skipped altogether, and the program continues with any code below the test (the first code without indentation).\n",
    "\n",
    "Let us look at an example. Let us say we have a dataset of $n$ samples, and we want to compute the median. If the number of samples is an odd number, then the median is simply the middle value, but if it is an even number of samples, we need to compute the average of the two middle values. To program an algorithm to find the mean, we must *test* if $n$ is even or odd. We can do this with the following test:"
   ]
  },
  {
   "cell_type": "code",
   "execution_count": 25,
   "metadata": {},
   "outputs": [
    {
     "name": "stdout",
     "output_type": "stream",
     "text": [
      "23 is odd\n"
     ]
    }
   ],
   "source": [
    "n = 23\n",
    "\n",
    "if n % 2 == 0:\n",
    "    print(f\"{n} is even\")\n",
    "else:\n",
    "    print(f\"{n} is odd\")"
   ]
  },
  {
   "cell_type": "markdown",
   "metadata": {},
   "source": [
    "In this example, we first define `n = 23`, this is just an arbitrary number, feel free to change it. Then we write a test to check if it is an even number. We do this by writing `if n % 2 == 0`. This might look like a very cryptic code at first, but let us break it down and understand it.\n",
    "\n",
    "We write `if <condition>:` to make an if-test, so `n % 2 == 0` is the condition we are actually testing. Here `n % 2` means $n$ modulo 2, which means the remainder we get if we divide $n$ by 2. An even number is by definition any integer that evenly divides 2, meaning there will be no remainder. So only when `n % 2` is equal to 0 will we have an even number. To check if two numbers are equal, we use double equality signs (`==`), this is common to nearly all programming languages and we do it because a single equality sign is used to assign variables.\n",
    "\n",
    "When the if-test is encountered in the code, the condition is checked, but because `n` isn't even, the condition is *False*, we can check this ourselves:"
   ]
  },
  {
   "cell_type": "code",
   "execution_count": 26,
   "metadata": {},
   "outputs": [
    {
     "name": "stdout",
     "output_type": "stream",
     "text": [
      "False\n"
     ]
    }
   ],
   "source": [
    "print(n % 2 == 0)"
   ]
  },
  {
   "cell_type": "markdown",
   "metadata": {},
   "source": [
    "Because the condition is false, we do not execute the code that is indented under the *if*-test. However, we have also added an `else`-block, which *will* occur. Note that the `else` does not have its own condition, it simply happens if the condition is false. You do not always need to include an `else`, if there is no `else` and the given condition is false, then simply nothing happens, the code just skips the indented code altogether."
   ]
  },
  {
   "cell_type": "markdown",
   "metadata": {},
   "source": [
    "#### Other comparisons\n",
    "\n",
    "In our example we checked if two numbers were equal with `==`, but you can also check if two numbers are *not equal* with `!=`, or you could check whichever is larger or smaller than the other with `<` and `>`. For greater or equal you can do `>=`.\n",
    "\n",
    "You can also combine several conditions with the `and`/`or` operators. The following test for example checks for a *positive*, *even* number:"
   ]
  },
  {
   "cell_type": "code",
   "execution_count": 27,
   "metadata": {},
   "outputs": [
    {
     "name": "stdout",
     "output_type": "stream",
     "text": [
      "10 is both positive and even\n"
     ]
    }
   ],
   "source": [
    "n = 10\n",
    "\n",
    "if n > 0 and n % 2 == 0:\n",
    "    print(f\"{n} is both positive and even\")"
   ]
  },
  {
   "cell_type": "markdown",
   "metadata": {},
   "source": [
    "##### More than two outcomes\n",
    "\n",
    "Lastly, we have seen we can use an if-else to have two outcomes for a given test. However, often we might to have more than two possible outcomes. In Python we can use `elif` to create multiple conditions. Say for instance we need to know if some number is positive, negative, or exactly zero, we could write it like this:"
   ]
  },
  {
   "cell_type": "code",
   "execution_count": 28,
   "metadata": {},
   "outputs": [
    {
     "name": "stdout",
     "output_type": "stream",
     "text": [
      "-2 is smaller than zero\n"
     ]
    }
   ],
   "source": [
    "x = -2\n",
    "\n",
    "if x > 0:\n",
    "    print(f\"{x} is greater than 0\")\n",
    "elif x == 0:\n",
    "    print(f\"{x} is exactly 0\")\n",
    "elif x < 0:\n",
    "    print(f\"{x} is smaller than zero\")"
   ]
  },
  {
   "cell_type": "markdown",
   "metadata": {},
   "source": [
    "A given test can only have one if and one else, but as many elifs as you want. In either case, only a single block will ever be executed, if the first `if`-clause is true, then all the other elifs will be skipped."
   ]
  },
  {
   "cell_type": "markdown",
   "metadata": {},
   "source": [
    "## While Loops\n",
    "\n",
    "We now turn to the topic of loops. Loops are one of the most fundamental concepts of programming, and are very useful tools to repeat an operation many times. In Python, we have two main kinds of loops, *while*-loops and *for*-loops. We start by looking at the *while*-loops.\n",
    "\n",
    "A while-loop repeats itself as long as some condition is fulfilled. For each time the loop is run, the condition is checked again. If the condition is still true, the loop is run again. If the condition is no longer true, the loop is finished.\n",
    "\n",
    "The syntax of a while loop in Python is as follows:\n",
    "```Python\n",
    "while <condition>:\n",
    "    <code block to be repeated>\n",
    "    <code block to be repeated>\n",
    "    <code block to be repeated>\n",
    "```\n",
    "There are a number of things to note with this syntax:\n",
    "* We define the start of a loop with the keyword `while`\n",
    "* We write in a given condition, and end the line with a colon (`:`)\n",
    "* A set of *indented statements* follow the definition of the loop, these are the lines that repeat each time the loop is run again\n",
    "\n",
    "The lines with indentation belong to the while-loop and we say ther are \"inside\" the loop. Any statements without indentation do not belong the loop, and will only be run after the loop is finished running."
   ]
  },
  {
   "cell_type": "markdown",
   "metadata": {},
   "source": [
    "#### Example: Computing $s(t)$ over time\n",
    "\n",
    "Let us look at an example. Returning to our recurring example:\n",
    "$$s(t) = v_0 t + \\frac{1}{2}at^2.$$\n",
    "So far, we have only computed specific values for a given $t$. But say we instead want to print out a whole table of values, for different times. How can we do this?\n",
    "\n",
    "Let us this time change the scenario so that we are looking at a ball thrown straight up, so $a=-9.81$, and $v_0=12$. We now want to compute $s(t)$ over the first two seconds of the ball's flight. We then need to decide on how many $t$-values we want to cover. Let us say we write out the net distance travelled each $\\Delta t =0.1$ s."
   ]
  },
  {
   "cell_type": "code",
   "execution_count": 29,
   "metadata": {},
   "outputs": [
    {
     "name": "stdout",
     "output_type": "stream",
     "text": [
      "0.0  0.00\n",
      "0.1  1.15\n",
      "0.2  2.20\n",
      "0.3  3.16\n",
      "0.4  4.02\n",
      "0.5  4.77\n",
      "0.6  5.43\n",
      "0.7  6.00\n",
      "0.8  6.46\n",
      "0.9  6.83\n",
      "1.0  7.09\n",
      "1.1  7.26\n",
      "1.2  7.34\n",
      "1.3  7.31\n",
      "1.4  7.19\n",
      "1.5  6.96\n",
      "1.6  6.64\n",
      "1.7  6.22\n",
      "1.8  5.71\n",
      "1.9  5.09\n"
     ]
    }
   ],
   "source": [
    "# Parameters\n",
    "v0 = 12\n",
    "a = -9.81\n",
    "\n",
    "# Time\n",
    "dt = 0.1 # Increment per time step\n",
    "t = 0 # Starting time\n",
    "T = 2 # Final time\n",
    "\n",
    "# Loop\n",
    "while t <= T:\n",
    "    s = v0*t + 0.5*a*t**2\n",
    "    print(f\"{t:2.1f}  {s:4.2f}\")\n",
    "    t = t + dt"
   ]
  },
  {
   "cell_type": "markdown",
   "metadata": {},
   "source": [
    "In this loop, the time variable `t` starts at 0, and the loop continues as long as teh condition `t <= T` evaluates to true. Each time the loop is repeated, we add increment `t` by `dt`. This means that every time the loop runs, `t` grows by 0.1, until it eventually reaches `T` and the loop ends.\n",
    "\n",
    "In addition to incrementing `t`, the loop computes `s(t)` and prints both in a neatly formatted table. Note that we write the format specifies `:2.1f` and `:4.2f`. The number before the decimal point specifies the width of characters to print. This is to keep the same column width.\n",
    "\n",
    "**Error in the code**\n",
    "\n",
    "There is something a bit strange with our code. According to the definition of the while-loop, we should keep going while $t \\leq T$, and $T=2$ s. This means the final pass of the loop should have `t=2`. However, in the last print, we see that we only get to $t = 1.9$ s before the loop terminates. Why do we experience this behavior?\n",
    "\n",
    "To understand this, we need to understand that computers cannot represent decimal numbers precisely, and so while what we want `t` to be 2.0, the increments of `0.1` have not been perfectly represented on the computer, and so `t` is ever so slightly larger than 2. We can see this by printing to machine precision by using 16 decimal places"
   ]
  },
  {
   "cell_type": "code",
   "execution_count": 30,
   "metadata": {},
   "outputs": [
    {
     "name": "stdout",
     "output_type": "stream",
     "text": [
      "2.0000000000000004\n"
     ]
    }
   ],
   "source": [
    "print(\"{:.16f}\".format(t))"
   ]
  },
  {
   "cell_type": "markdown",
   "metadata": {},
   "source": [
    "For this reason, we should be careful when we want to test or compare floats! Note that this is not a problem specific to Python, but rather a problem with limited precision of computers, it is therefore a problem in any numerical programming, regardless of language."
   ]
  },
  {
   "cell_type": "markdown",
   "metadata": {},
   "source": [
    "#### Example: Computing until the ball hits the ground\n",
    "\n",
    "Here we used a while-loop to compute a table for the first two seconds, but we see that even at $t=2$, the ball has yet to hit the ground again. Let us therefore change things around so we instead keep computing untill the ball hits the ground. This is as simple as changing the condition of the while-loop. We change this condition to `while s >= 0`. As soon as $s$ becomes negative, we stop. However, now we also need to define some initial variable $s$, so that the program can check the condition the first time the loop in encountered."
   ]
  },
  {
   "cell_type": "code",
   "execution_count": 31,
   "metadata": {},
   "outputs": [
    {
     "name": "stdout",
     "output_type": "stream",
     "text": [
      "0.0  0.00\n",
      "0.1  1.15\n",
      "0.2  2.20\n",
      "0.3  3.16\n",
      "0.4  4.02\n",
      "0.5  4.77\n",
      "0.6  5.43\n",
      "0.7  6.00\n",
      "0.8  6.46\n",
      "0.9  6.83\n",
      "1.0  7.09\n",
      "1.1  7.26\n",
      "1.2  7.34\n",
      "1.3  7.31\n",
      "1.4  7.19\n",
      "1.5  6.96\n",
      "1.6  6.64\n",
      "1.7  6.22\n",
      "1.8  5.71\n",
      "1.9  5.09\n",
      "2.0  4.38\n",
      "2.1  3.57\n",
      "2.2  2.66\n",
      "2.3  1.65\n",
      "2.4  0.55\n",
      "2.5  -0.66\n"
     ]
    }
   ],
   "source": [
    "# Parameters\n",
    "v0 = 12\n",
    "a = -9.81\n",
    "\n",
    "# Time\n",
    "dt = 0.1 # Increment per time step\n",
    "t = 0 # Starting time\n",
    "T = 2 # Final time\n",
    "\n",
    "# Loop\n",
    "s = 0\n",
    "while s >= 0:\n",
    "    s = v0*t + 0.5*a*t**2\n",
    "    print(f\"{t:2.1f}  {s:4.2f}\")\n",
    "    t = t + dt"
   ]
  },
  {
   "cell_type": "markdown",
   "metadata": {},
   "source": [
    "We see that $t=2.5$ is the first time step where the ball has gone below $s=0$.\n",
    "\n",
    "This second example illustrates one of the major uses for *while*-loops, as they can allow us to compute to some given condition, even if we do not know how many steps we need to get there."
   ]
  },
  {
   "cell_type": "markdown",
   "metadata": {},
   "source": [
    "##### Your turn: Using a while loop to calculate interest\n",
    "\n",
    "Assume we have a savings account with an annual interest of 3.45%. If we deposit $10,000$ to the account, how many years do we need to wait before the money in the account has doubled?\n",
    "\n",
    "Fill in code below to answer this question. Hint: You will need a loop that looks something like this:\n",
    "```Python\n",
    "while <condtion>:\n",
    "    money *= ...\n",
    "    year += ...\n",
    "```"
   ]
  },
  {
   "cell_type": "code",
   "execution_count": 32,
   "metadata": {},
   "outputs": [],
   "source": [
    "# Fill in code to answer the question"
   ]
  },
  {
   "cell_type": "markdown",
   "metadata": {},
   "source": [
    "## Lists and Sequences\n",
    "\n",
    "Earlier, we mentioned that Python has built-in datatypes for collections of values. We will look at some of these now. Collections are useful for storing a set of data that naturally belongs together, for example a set of measurements. Different collections are useful for different things.\n",
    "\n",
    "One of the more useful collections are *sequences*, often simply called lists. Lists are simply an ordered sequence of values. In Python, we can define such a sequence of values by writing them within square-brackets, and separating the different values by a comma"
   ]
  },
  {
   "cell_type": "code",
   "execution_count": 33,
   "metadata": {},
   "outputs": [],
   "source": [
    "primes = [2, 3, 5, 8, 11, 13, 17]"
   ]
  },
  {
   "cell_type": "markdown",
   "metadata": {},
   "source": [
    "Now, `primes` is a *list* variable. We say that it consists of 7 *elements*. We can find the length of a list with the function `len()`. We can also access individual elements as if they were individual variables through *indexing* by writing for example `primes[2]`, the number in the brackets is the *index*. Note that Python starts counting at 0, so `[2]` would be the *third* element."
   ]
  },
  {
   "cell_type": "code",
   "execution_count": 34,
   "metadata": {},
   "outputs": [
    {
     "name": "stdout",
     "output_type": "stream",
     "text": [
      "<class 'list'>\n",
      "7\n",
      "5\n"
     ]
    }
   ],
   "source": [
    "print(type(primes)) # Check the data type of the variable\n",
    "print(len(primes)) # Print the number of elements\n",
    "print(primes[2])  # Access an element by index. "
   ]
  },
  {
   "cell_type": "markdown",
   "metadata": {},
   "source": [
    "The use of `len` and indexing is not exclusive to Python lists, but can also be used on other sequence data types. "
   ]
  },
  {
   "cell_type": "markdown",
   "metadata": {},
   "source": [
    "#### Appending elements\n",
    "\n",
    "Python lists have a series of *methods*, special functions we can use to change the lists in certain ways. One example is the method `.append`, which we can use to add new elements to a list. We can for example start with an empty list, and build it up element by element.\n",
    "\n",
    "Let us for example say we want a list of all powers of 2 less than 1000\n",
    "$$2^n < 1000.$$\n",
    "We could create these in a list by using a loop, and appending the elements one by one:"
   ]
  },
  {
   "cell_type": "code",
   "execution_count": 35,
   "metadata": {},
   "outputs": [],
   "source": [
    "powers = [] # Empty list\n",
    "n = 0\n",
    "\n",
    "while 2**n < 1000:\n",
    "    powers.append(2**n)\n",
    "    n += 1"
   ]
  },
  {
   "cell_type": "markdown",
   "metadata": {},
   "source": [
    "Here, the loop keeps incrementing $n$ untill $2^n$ grows beyond 1000. For each iteration of the loop, a new element is added to the list. To see the final list, we must print it:"
   ]
  },
  {
   "cell_type": "code",
   "execution_count": 36,
   "metadata": {},
   "outputs": [
    {
     "name": "stdout",
     "output_type": "stream",
     "text": [
      "[1, 2, 4, 8, 16, 32, 64, 128, 256, 512]\n"
     ]
    }
   ],
   "source": [
    "print(powers)"
   ]
  },
  {
   "cell_type": "markdown",
   "metadata": {},
   "source": [
    "### Other Useful List Methods\n",
    "\n",
    "We see that we can use `.append` to add an element to the end of a given list. Such a function is called a *method*, because it acts on a specific object. All list-objects will have access to the `.append()` method. Lists also have a series of other useful methods we can use.\n",
    "\n",
    "| Method | Description |\n",
    "| ------ | ----------- |\n",
    "| `.append(value)` | Add new element at end of list |\n",
    "| `.sort()` | Sort the list *in-place* |\n",
    "| `.reverse()` | Reverse the order of the list | \n",
    "| `.pop()` | Removes the last element of the list, and return it |\n",
    "| `.pop(index)` | Removes the element at a given index and return it |\n",
    "| `.remove(value)` | Remove the first occurance of a given value in the list |\n",
    "\n",
    "<center><b>Table:</b>Useful methods for list-objects.</center>"
   ]
  },
  {
   "cell_type": "markdown",
   "metadata": {},
   "source": [
    "For a more thorough description of Python lists, and the methods, see the [Python Tutorial](https://docs.python.org/3/tutorial/introduction.html#lists), or the [full reference on Python data structures](https://docs.python.org/3.7/tutorial/datastructures.html)."
   ]
  },
  {
   "cell_type": "markdown",
   "metadata": {},
   "source": [
    "## For loops\n",
    "\n",
    "We have briefly covered *while*-loops, now we cover *for*-loops. Where the while-loop repeats until a condition is met, the for loop goes through a collection of objects such as a list. We say that we loop over a list, or iterate through a list.\n",
    "\n",
    "The syntax for a for-loop in Python is as follows:\n",
    "\n",
    "```Python\n",
    "for <element> in <sequence>:\n",
    "    <codeblock to be repeated>\n",
    "    <codeblock to be repeated>\n",
    "    <codeblock to be repeated>\n",
    "```\n",
    "Here `<sequence>` should be some object consisting of several elements, for example a list. The `<element>` is a name we choose, this variable will be set to each element in the list as we loop, so that the loop repeats, but changing the active element each time.\n",
    "\n",
    "We can for example loop through and print through the elements of our `primes` list"
   ]
  },
  {
   "cell_type": "code",
   "execution_count": 37,
   "metadata": {},
   "outputs": [
    {
     "name": "stdout",
     "output_type": "stream",
     "text": [
      "2\n",
      "3\n",
      "5\n",
      "8\n",
      "11\n",
      "13\n",
      "17\n"
     ]
    }
   ],
   "source": [
    "for p in primes:\n",
    "    print(p)"
   ]
  },
  {
   "cell_type": "markdown",
   "metadata": {},
   "source": [
    "Note that `primes` was a list we defined earlier, consiting of prime numbers. The variable `p` did *not* exist before we created our list, it is made by the loop itself. This is a normal point for confusion for beginners. Think of `p` as a mathematical variable that is equal to the different element of the list. Reading out the code as an english command also makes sense \"for p in primes\" is perhaps better understood if you read it as \"for each element, p, in the sequence primes, do something."
   ]
  },
  {
   "cell_type": "markdown",
   "metadata": {},
   "source": [
    "In our first example, we simply printed out each element, which isn't terribly existing. But let us instead perform something a bit more fancy, a small computation. We could for example explore Mersenne primes, which are on the form $2^p-1$ where $p$ is a prime, we could then do:"
   ]
  },
  {
   "cell_type": "code",
   "execution_count": 38,
   "metadata": {},
   "outputs": [
    {
     "name": "stdout",
     "output_type": "stream",
     "text": [
      "3\n",
      "7\n",
      "31\n",
      "255\n",
      "2047\n",
      "8191\n",
      "131071\n"
     ]
    }
   ],
   "source": [
    "for p in primes:\n",
    "    print(2**p-1)"
   ]
  },
  {
   "cell_type": "markdown",
   "metadata": {},
   "source": [
    "Or if we want to get a nicer table:"
   ]
  },
  {
   "cell_type": "code",
   "execution_count": 39,
   "metadata": {},
   "outputs": [
    {
     "name": "stdout",
     "output_type": "stream",
     "text": [
      " p      2^p-1\n",
      "-------------\n",
      " 2          3\n",
      " 3          7\n",
      " 5         31\n",
      " 8        255\n",
      "11       2047\n",
      "13       8191\n",
      "17     131071\n"
     ]
    }
   ],
   "source": [
    "print(\" p      2^p-1\")\n",
    "print(\"-------------\")\n",
    "for p in primes:\n",
    "    print(f\"{p:2} {2**p-1:10}\")"
   ]
  },
  {
   "cell_type": "markdown",
   "metadata": {},
   "source": [
    "### Looping over Number Ranges\n",
    "\n",
    "We have now see how we can use a for-loop to iterate through the elements of a sequence. However, often we do not want to loop over a list of elements we have already defined, but over some range of numbers. Take for instance our example above where we computed $s(t)$ for a lot of different time points. Here we want to loop over a given set of numbers.\n",
    "\n",
    "Now, one way to acomplish this would of course be to simply write out all the numbers:\n",
    "```Python\n",
    "times = [0, 0.1, 0.2, 0.3, ...]\n",
    "```\n",
    "But this would be incredibly boring and inefficient. Say we want to loop over one million numbers, it would simply be impossible to write them out.\n",
    "\n",
    "Luckily, Python supplies a useful `range` function that creates predefined number ranges for us. The syntax is not terribly challenging, but it might take some getting used to."
   ]
  },
  {
   "cell_type": "markdown",
   "metadata": {},
   "source": [
    "Say we want to loop over the numbers $1, 2, 3, ..., 10$, then we would do:"
   ]
  },
  {
   "cell_type": "code",
   "execution_count": 40,
   "metadata": {},
   "outputs": [
    {
     "name": "stdout",
     "output_type": "stream",
     "text": [
      "1\n",
      "2\n",
      "3\n",
      "4\n",
      "5\n",
      "6\n",
      "7\n",
      "8\n",
      "9\n",
      "10\n"
     ]
    }
   ],
   "source": [
    "for i in range(1, 11):\n",
    "    print(i)"
   ]
  },
  {
   "cell_type": "markdown",
   "metadata": {},
   "source": [
    "A few things to note here is that `range(1, 11)` creates the range of integers starting at 1, but ending at 10 (not 11). Meaning the two arguments is the start, inclusive, and the end, exclusive. So `range(a, b)` gives what we mathematically would write as $[a, b)$.\n",
    "\n",
    "Note that we have called our number `i`. This is just a normal convention when having a number that is counting upwards in integer steps. The convention comes from math, where one typically writes sums like:\n",
    "$$\\sum_{i=0}^{N} 2i - 1.$$"
   ]
  },
  {
   "cell_type": "markdown",
   "metadata": {},
   "source": [
    "To compute this sum in Python, we would need to decide on a specific $N$, but then we could simply use a for-loop over the range and add each term to some *summation variable*:"
   ]
  },
  {
   "cell_type": "code",
   "execution_count": 41,
   "metadata": {},
   "outputs": [
    {
     "name": "stdout",
     "output_type": "stream",
     "text": [
      "9999\n"
     ]
    }
   ],
   "source": [
    "N = 100\n",
    "\n",
    "total = 0\n",
    "for i in range(0, N+1):\n",
    "    total += 2*i - 1\n",
    "    \n",
    "print(total)"
   ]
  },
  {
   "cell_type": "markdown",
   "metadata": {},
   "source": [
    "Note that we here wrote `range(0, N+1)`, because we wanted to start at 0, and go up to and including $N$. However, whenever we want to start a range at 0, we can simply omit it, this is just a handy shorthand, because we often want to start a loop at 0. So\n",
    "```Python\n",
    "range(0, N+1)\n",
    "```\n",
    "and\n",
    "```Python\n",
    "range(N+1)\n",
    "```\n",
    "are exactly equivalent. We also defined a variable `total`, this is because we need some variable to compute our actual sum. Note that while you might be tempted to call this variable `sum`, there is actually a function in Python called `sum`, and so you should refrain from using that name."
   ]
  },
  {
   "cell_type": "markdown",
   "metadata": {},
   "source": [
    "We can also add a third argument, in which case the syntax is\n",
    "```Python\n",
    "range(start, stop, step)\n",
    "```\n",
    "So the third argument says how the integer should increment. If we for example only want even numbers, we could do:"
   ]
  },
  {
   "cell_type": "code",
   "execution_count": 42,
   "metadata": {},
   "outputs": [
    {
     "name": "stdout",
     "output_type": "stream",
     "text": [
      "0\n",
      "2\n",
      "4\n",
      "6\n",
      "8\n"
     ]
    }
   ],
   "source": [
    "for i in range(0, 10, 2):\n",
    "    print(i)"
   ]
  },
  {
   "cell_type": "markdown",
   "metadata": {},
   "source": [
    "#### Your Turn\n",
    "\n",
    "Use a for-loop combined with the `range` function, to write out a table of $n$, $n^2$ and $n^3$ for $n=0, 1, \\ldots, 10.$"
   ]
  },
  {
   "cell_type": "code",
   "execution_count": 43,
   "metadata": {},
   "outputs": [],
   "source": [
    "# Fill in your code"
   ]
  },
  {
   "cell_type": "markdown",
   "metadata": {},
   "source": [
    "#### Your Turn: Computing a sum\n",
    "\n",
    "Use a for-loop to compute the sum of all integers from 1 to 1000, i.e., the sum\n",
    "$$s = \\sum_{n=1}^{1000} n.$$"
   ]
  },
  {
   "cell_type": "code",
   "execution_count": 44,
   "metadata": {},
   "outputs": [],
   "source": [
    "# Fill in your code for"
   ]
  },
  {
   "cell_type": "markdown",
   "metadata": {},
   "source": [
    "### Using a for-loop to compute $s(t)$\n",
    "\n",
    "Earlier, we used a while loop to compute $s(t)$ for certain time points. Let us repeat this exercise using for-loops. The main challenge now is that `range` only takes integer values, while we want to let $t$ increase in steps of 0.1.\n",
    "\n",
    "To get around this, let us say that $t_i = i\\cdot \\Delta t$, so we let $i$ count in integer steps from 0, and then we compute $t_i$ and $s(t_i)$ for each step. Earlier we printed out each value, but this time, let us append them to lists instead."
   ]
  },
  {
   "cell_type": "code",
   "execution_count": 45,
   "metadata": {},
   "outputs": [],
   "source": [
    "# Parameters\n",
    "v0 = 12\n",
    "a = -9.81\n",
    "\n",
    "dt = 0.1\n",
    "N = 21\n",
    "\n",
    "t_list = []\n",
    "s_list = []\n",
    "\n",
    "for i in range(N):\n",
    "    t = i*dt\n",
    "    s = v0*t + 0.5*a*t**2\n",
    "    \n",
    "    t_list.append(t)\n",
    "    s_list.append(s)"
   ]
  },
  {
   "cell_type": "markdown",
   "metadata": {
    "slideshow": {
     "slide_type": "slide"
    }
   },
   "source": [
    "We have now stored the results in lists, we will use for plotting shortly. But for now, let us look at how we can use these lists to print out the nice table. Here we have two lists with the same number of elements, we can then loop over both at the same time by *zipping* them together with the function `zip`:"
   ]
  },
  {
   "cell_type": "code",
   "execution_count": 46,
   "metadata": {},
   "outputs": [
    {
     "name": "stdout",
     "output_type": "stream",
     "text": [
      "0.0   0.0\n",
      "0.1   1.2\n",
      "0.2   2.2\n",
      "0.3   3.2\n",
      "0.4   4.0\n",
      "0.5   4.8\n",
      "0.6   5.4\n",
      "0.7   6.0\n",
      "0.8   6.5\n",
      "0.9   6.8\n",
      "1.0   7.1\n",
      "1.1   7.3\n",
      "1.2   7.3\n",
      "1.3   7.3\n",
      "1.4   7.2\n",
      "1.5   7.0\n",
      "1.6   6.6\n",
      "1.7   6.2\n",
      "1.8   5.7\n",
      "1.9   5.1\n",
      "2.0   4.4\n"
     ]
    }
   ],
   "source": [
    "for t, s in zip(t_list, s_list):\n",
    "    print(f\"{t:3.1f}   {s:3.1f}\")"
   ]
  },
  {
   "cell_type": "markdown",
   "metadata": {},
   "source": [
    "## Plotting\n",
    "\n",
    "We now turn to a new topic: Plotting. Plotting is the process of producing graphics from numerical data. Plotting and producing graphics is a popular use-case for Python, and is especially relevant for scientific programming and data science.\n",
    "\n",
    "Basic Python does not have access to plotting, and so we will need to import this functionality. Different packages for plotting exist, but we will use the most commonly used one: [Matplotlib](https://matplotlib.org/).\n",
    "\n",
    "Matplotlib is a very popular, open source package for plotting. They have good introductions and examples on their website, and it is well worth a look. Matplotlib is very well developed and extensive for 2D plotting. If you want to make 3-dimensional plots however, some other packages are likely better."
   ]
  },
  {
   "cell_type": "markdown",
   "metadata": {},
   "source": [
    "To work with matplotlib, we first need to import it, here we start by importing the `pyplot` subpackage:"
   ]
  },
  {
   "cell_type": "code",
   "execution_count": 47,
   "metadata": {},
   "outputs": [],
   "source": [
    "import matplotlib.pyplot as plt"
   ]
  },
  {
   "cell_type": "markdown",
   "metadata": {},
   "source": [
    "We can now use `plt.` to access plotting functionality. The first thing we can do is plot our `t_list` and `s_list` against each other. The normal `plt.plot` command plots two sequences against each other, with the first along the x-axis, and the second along the y-axis. After calling `plt.plot`, we need to call `plt.show` to actually show the figure. Much like we often need to first compute a variable, and then `print` it."
   ]
  },
  {
   "cell_type": "code",
   "execution_count": 48,
   "metadata": {},
   "outputs": [
    {
     "data": {
      "image/png": "[encoded data removed]",
      "text/plain": [
       "<Figure size 432x288 with 1 Axes>"
      ]
     },
     "metadata": {
      "needs_background": "light"
     },
     "output_type": "display_data"
    }
   ],
   "source": [
    "plt.plot(t_list, s_list)\n",
    "plt.show()"
   ]
  },
  {
   "cell_type": "markdown",
   "metadata": {},
   "source": [
    "This curve is perhaps not all that exciting, but it shows our data in a intuitive way. However, the axis are not labeled, which we should fix! To do this, we use some additional commands between the `plot` and the `show` commands"
   ]
  },
  {
   "cell_type": "code",
   "execution_count": 49,
   "metadata": {},
   "outputs": [
    {
     "data": {
      "image/png": "[encoded data removed]",
      "text/plain": [
       "<Figure size 432x288 with 1 Axes>"
      ]
     },
     "metadata": {
      "needs_background": "light"
     },
     "output_type": "display_data"
    }
   ],
   "source": [
    "plt.plot(t_list, s_list)\n",
    "plt.xlabel('Time (s)')\n",
    "plt.ylabel('Height (m)')\n",
    "plt.title('Motion over time')\n",
    "plt.show()"
   ]
  },
  {
   "cell_type": "markdown",
   "metadata": {},
   "source": [
    "Even though are data set are explicit points in time, the curve is continious. This is because Matplotlib draws a straight line between each data point for us. We can plot this with a different line style to better show this if we want:"
   ]
  },
  {
   "cell_type": "code",
   "execution_count": 50,
   "metadata": {},
   "outputs": [
    {
     "data": {
      "image/png": "[encoded data removed]",
      "text/plain": [
       "<Figure size 432x288 with 1 Axes>"
      ]
     },
     "metadata": {
      "needs_background": "light"
     },
     "output_type": "display_data"
    }
   ],
   "source": [
    "plt.plot(t_list, s_list, 'o--')\n",
    "plt.xlabel('Time (s)')\n",
    "plt.ylabel('Height (m)')\n",
    "plt.title('Motion over time')\n",
    "plt.show()"
   ]
  },
  {
   "cell_type": "markdown",
   "metadata": {},
   "source": [
    "#### Using Numpy\n",
    "\n",
    "The package [NumPy](http://www.numpy.org/) (numerical Python) is very important if we want to do any kind of numerical computation in Python, and it can also be very helpful if we want to plot a mathematical function for example. In our $s(t)$ example, we used a loop and lists to compute many points, but with `NumPy`, we can do this computation directly. First we import it"
   ]
  },
  {
   "cell_type": "code",
   "execution_count": 51,
   "metadata": {},
   "outputs": [],
   "source": [
    "import numpy as np"
   ]
  },
  {
   "cell_type": "markdown",
   "metadata": {},
   "source": [
    "Now we need to create a numpy *array*. These behave much like lists, but they are more mathematical in nature, and so we can do *vector computations* on them. This means we can simply write in the math, and the loops will happen behind the scenes, for us.\n",
    "\n",
    "There are three main ways to define numpy arrays:\n",
    "* `np.zeros`\n",
    "* `np.arange`\n",
    "* `np.linspace`\n",
    "\n",
    "The first, `zeros`, creates an array full of 0's, not very exicting. The `arange` works much like `range`, but it gives us a numpy array, unlike the normal `range` it can also take in decimals. The final one: `linspace`, stands for \"linear spacing\", and it is used by writing `np.linspace(a, b, n)`, and then it gives $n$ linearily spaced points in the interval $[a, b]$."
   ]
  },
  {
   "cell_type": "markdown",
   "metadata": {},
   "source": [
    "Using Numpy, we could compute $s(t)$ as follows:"
   ]
  },
  {
   "cell_type": "code",
   "execution_count": 52,
   "metadata": {},
   "outputs": [],
   "source": [
    "v0 = 12\n",
    "a = -9.81\n",
    "\n",
    "t = np.arange(0, 3.1, 0.1)\n",
    "s = v0*t + 0.5*a*t**2"
   ]
  },
  {
   "cell_type": "markdown",
   "metadata": {},
   "source": [
    "Now, `t` is not a number variable any more, but an *array*, or a mathematical vector if you will. Because of this, the resulting variable `s` is also such an array:"
   ]
  },
  {
   "cell_type": "code",
   "execution_count": 53,
   "metadata": {},
   "outputs": [
    {
     "name": "stdout",
     "output_type": "stream",
     "text": [
      "<class 'numpy.ndarray'>\n",
      "<class 'numpy.ndarray'>\n"
     ]
    }
   ],
   "source": [
    "print(type(t))\n",
    "print(type(s))"
   ]
  },
  {
   "cell_type": "code",
   "execution_count": 54,
   "metadata": {},
   "outputs": [
    {
     "data": {
      "image/png": "[encoded data removed]",
      "text/plain": [
       "<Figure size 432x288 with 1 Axes>"
      ]
     },
     "metadata": {
      "needs_background": "light"
     },
     "output_type": "display_data"
    }
   ],
   "source": [
    "plt.plot(t, s)\n",
    "plt.xlabel('t')\n",
    "plt.ylabel('s(t)')\n",
    "plt.show()"
   ]
  },
  {
   "cell_type": "markdown",
   "metadata": {},
   "source": [
    "Here $s=0$ represents the ground, so the automatic axis becomes a bit weird. We can control this using `plt.axis([xmin, xmax, ymin, ymax])`:"
   ]
  },
  {
   "cell_type": "code",
   "execution_count": 55,
   "metadata": {},
   "outputs": [
    {
     "data": {
      "image/png": "[encoded data removed]",
      "text/plain": [
       "<Figure size 432x288 with 1 Axes>"
      ]
     },
     "metadata": {
      "needs_background": "light"
     },
     "output_type": "display_data"
    }
   ],
   "source": [
    "plt.plot(t, s)\n",
    "plt.xlabel('t')\n",
    "plt.ylabel('s(t)')\n",
    "plt.axis([0, 3.0, 0, 8.5])\n",
    "plt.show()"
   ]
  },
  {
   "cell_type": "markdown",
   "metadata": {},
   "source": [
    "Numpy also provides all the normal mathematical functions that works with vectors. Say for instance we want to create a sine curve, we can do it as follows:"
   ]
  },
  {
   "cell_type": "code",
   "execution_count": 56,
   "metadata": {},
   "outputs": [],
   "source": [
    "x = np.linspace(0, 4*np.pi, 50)\n",
    "y = np.sin(x)"
   ]
  },
  {
   "cell_type": "code",
   "execution_count": 57,
   "metadata": {},
   "outputs": [
    {
     "data": {
      "image/png": "[encoded data removed]",
      "text/plain": [
       "<Figure size 432x288 with 1 Axes>"
      ]
     },
     "metadata": {
      "needs_background": "light"
     },
     "output_type": "display_data"
    }
   ],
   "source": [
    "plt.plot(x, y)\n",
    "plt.xlabel('x')\n",
    "plt.ylabel('sin(x)')\n",
    "plt.show()"
   ]
  },
  {
   "cell_type": "markdown",
   "metadata": {},
   "source": [
    "With only a few lines of code, we produce a nice sine curve. Note that we use `linspace` to plot two whole periods (from 0 to $4\\pi$). The curve looks nice except that the tops look a bit jagged. This is because we compute too few points for it to look completely straight. Let us upp the number of points:"
   ]
  },
  {
   "cell_type": "code",
   "execution_count": 58,
   "metadata": {},
   "outputs": [
    {
     "data": {
      "image/png": "[encoded data removed]",
      "text/plain": [
       "<Figure size 432x288 with 1 Axes>"
      ]
     },
     "metadata": {
      "needs_background": "light"
     },
     "output_type": "display_data"
    }
   ],
   "source": [
    "x = np.linspace(0, 4*np.pi, 1001)\n",
    "y = np.sin(x)\n",
    "\n",
    "plt.plot(x, y)\n",
    "plt.show()"
   ]
  },
  {
   "cell_type": "markdown",
   "metadata": {},
   "source": [
    "Numpy also has other common mathematical operations available in vectorized versions, including `log()`, `exp()` and `sqrt()`. Normal arithmetic operations also works well with arrays"
   ]
  },
  {
   "cell_type": "markdown",
   "metadata": {},
   "source": [
    "#### Your turn: Plotting a damped sine wave\n",
    "\n",
    "Make a program that plots the function $g(y) = e^{-y}\\sin(4y)$ for $y\\in[0, 4]$."
   ]
  },
  {
   "cell_type": "markdown",
   "metadata": {},
   "source": [
    "#### Your turn: Plotting a circle with parametric representation\n",
    "\n",
    "Use `np.linspace` to define $\\theta \\in [0, 2\\pi]$, and then let $x = \\cos(\\theta)$ and $y = \\sin(\\theta)$. Plotting $(x, y)$ should now give a circle. Use `plt.axis('equal')` between your `plot` and `show` statements to make the dimensions of the $x$ and $y$ equal."
   ]
  },
  {
   "cell_type": "markdown",
   "metadata": {},
   "source": [
    "### Other kinds of plots\n",
    "\n",
    "We have only shown the command `plt.plot` so far to plot out curves. However, matplotlib supports more or less any kind of normal 2D plot. We recommend you look at the [Matplotlib example gallery](https://matplotlib.org/gallery/index.html) to look for inspiration. For any kind of plot you can click it to see example code used to generate it.\n",
    "\n",
    "Some popular matplotlib plotting commands are\n",
    "* `plt.bar` for barplots\n",
    "* `plt.scatter` for scatterplots\n",
    "* `plt.hist` for histograms\n",
    "* `plt.contour` for contour plots\n",
    "* and so on...\n",
    "\n",
    "There are way to many possiblities to list here."
   ]
  },
  {
   "cell_type": "markdown",
   "metadata": {},
   "source": [
    "## Defining Functions\n",
    "\n",
    "So far, we have used a lot of functions, for example `print`, `sin`, `np.linspace`, `plt.plot` and so on. All of these are functions we can *call on* to perform specific tasks. Now we will look at how we can define our own functions, which is luckily very easy.\n",
    "\n",
    "The benefit of defining our own function is that we can avoiding the same code many times over. This is more efficient, and easier to fix if something is wrong. It also makes our code more structured and easy to understand, as a function is a form of *abstraction*. If we write a function that performs some given task, we can later on rely on that function while no longer having to think about *exactly* how that task is achived. This is a big benefit, because the human mind is not good at focusing on too many different things at once."
   ]
  },
  {
   "cell_type": "markdown",
   "metadata": {},
   "source": [
    "Enough talk, let us show an example. What better example than our trusty function:\n",
    "$$s(t) = v_0t + \\frac{1}{2}at^2.$$\n",
    "To define this function, we write:"
   ]
  },
  {
   "cell_type": "code",
   "execution_count": 59,
   "metadata": {},
   "outputs": [],
   "source": [
    "v0 = 12\n",
    "a = -9.81\n",
    "\n",
    "def s(t):\n",
    "    return v0*t + 0.5*a*t**2"
   ]
  },
  {
   "cell_type": "markdown",
   "metadata": {},
   "source": [
    "Here you can note especially that:\n",
    "* We define a function by using the keyword `def`\n",
    "* The contents of a function must be indented\n",
    "* Function input is represented by arguments, written inside the parenthenses\n",
    "* We define the function output with the keyword `return`\n",
    "\n",
    "In this case, `s` is the *name* of the function. Just like other variables, we can choose any name for our functions, as long as they do not conflict with built in functions. We specify that our function takes in an argument `(t)`. Here `t` is just a name, which we decide, but inside our function we can use it as a variable. Inside the function we compute our formula as normal, but we use the keyword `return` to *send the value back.\n",
    "\n",
    "When we run this code cell, nothing happens. This is because defining a function does exactly that, it *defines* it. Think of it like a rule, after running the code, Python will know what the function `s` does, but to actually use it, we need to *call* our function:"
   ]
  },
  {
   "cell_type": "code",
   "execution_count": 60,
   "metadata": {},
   "outputs": [
    {
     "data": {
      "text/plain": [
       "4.0152"
      ]
     },
     "execution_count": 60,
     "metadata": {},
     "output_type": "execute_result"
    }
   ],
   "source": [
    "s(0.4)"
   ]
  },
  {
   "cell_type": "markdown",
   "metadata": {},
   "source": [
    "Here, we pass in the value `0.4` to our function, this means that Python computes the defined formula with $t=0.4$, and returns the result so we can print it.\n",
    "\n",
    "The benefit of defining the function is that now we can use it many times, like inside the function:"
   ]
  },
  {
   "cell_type": "code",
   "execution_count": 61,
   "metadata": {},
   "outputs": [
    {
     "name": "stdout",
     "output_type": "stream",
     "text": [
      "0.0  0.0\n",
      "0.1  1.2\n",
      "0.2  2.2\n",
      "0.3  3.2\n",
      "0.4  4.0\n",
      "0.5  4.8\n",
      "0.6  5.4\n",
      "0.7  6.0\n",
      "0.8  6.5\n",
      "0.9  6.8\n"
     ]
    }
   ],
   "source": [
    "dt = 0.1\n",
    "for i in range(10):\n",
    "    t = i*dt\n",
    "    print(f\"{t:3.1f}  {s(t):3.1f}\")"
   ]
  },
  {
   "cell_type": "markdown",
   "metadata": {},
   "source": [
    "In this example, we let `v0` and `a` be defined outside the function itself, these are called *global variables*. However, perhaps we want call the functions with different values. Then we can define the function with additional arguments:"
   ]
  },
  {
   "cell_type": "code",
   "execution_count": 62,
   "metadata": {},
   "outputs": [],
   "source": [
    "def s(t, v0, a):\n",
    "    return v0*t + 0.5*a*t**2"
   ]
  },
  {
   "cell_type": "markdown",
   "metadata": {},
   "source": [
    "We can also give function arguments *default values*:"
   ]
  },
  {
   "cell_type": "code",
   "execution_count": 63,
   "metadata": {},
   "outputs": [],
   "source": [
    "def s(t, v0=12, a=-9.81):\n",
    "    return v0*t + 0.5*a*t**2"
   ]
  },
  {
   "cell_type": "markdown",
   "metadata": {},
   "source": [
    "This way, it is optional wether we want to supply them or not. In fact, most of the functions we have used so far in this crash course have had optional arguments. Take for instance the function `sorted`, which sorts a list of elements for us:"
   ]
  },
  {
   "cell_type": "code",
   "execution_count": 64,
   "metadata": {},
   "outputs": [
    {
     "name": "stdout",
     "output_type": "stream",
     "text": [
      "[0, 1, 2, 3, 4, 5]\n"
     ]
    }
   ],
   "source": [
    "print(sorted([4, 0, 1, 3, 5, 2]))"
   ]
  },
  {
   "cell_type": "markdown",
   "metadata": {},
   "source": [
    "This functions sorts the list in increasing order by default, but perhaps we want to sort in decreasing order? Then we can use an optional argument called `reverse`:"
   ]
  },
  {
   "cell_type": "code",
   "execution_count": 65,
   "metadata": {},
   "outputs": [
    {
     "name": "stdout",
     "output_type": "stream",
     "text": [
      "[5, 4, 3, 2, 1, 0]\n"
     ]
    }
   ],
   "source": [
    "print(sorted([4, 0, 1, 3, 5, 2], reverse=True))"
   ]
  },
  {
   "cell_type": "markdown",
   "metadata": {},
   "source": [
    "#### Your Turn: Pythagoras'\n",
    "\n",
    "Pythagoras' claimed that $a^2 + b^2 = c^2$. Define a function called `hypothenus` that finds the length of the hypothenus given the length of the two catheti as input."
   ]
  },
  {
   "cell_type": "code",
   "execution_count": 66,
   "metadata": {},
   "outputs": [],
   "source": [
    "# Fill in code here"
   ]
  },
  {
   "cell_type": "markdown",
   "metadata": {},
   "source": [
    "Test your newly implemented function by checking that a triangle with short sides of $3$ and $4$ should have a long side of $5$."
   ]
  },
  {
   "cell_type": "markdown",
   "metadata": {},
   "source": [
    "### More Complex Example: Checking if a number is prime\n",
    "\n",
    "Functions we define in Python can contain *any* code, and do not need to be *mathematical functions* per se. As a final example, let us write a function that can check if a number is a prime number or not. This example will be a bit tricker than everything so far, as it pulls together some different concepts we have gone through."
   ]
  },
  {
   "cell_type": "markdown",
   "metadata": {},
   "source": [
    "First, let us recall what a prime number is. A prime number is any integer larger than 1, that is only cleanly divisible by 1 or itself. Let us start to define this function. First of we need to handle the special case that 1 is not prime:"
   ]
  },
  {
   "cell_type": "code",
   "execution_count": 67,
   "metadata": {},
   "outputs": [],
   "source": [
    "def is_prime(n):\n",
    "    if n <= 1:\n",
    "        return False"
   ]
  },
  {
   "cell_type": "markdown",
   "metadata": {},
   "source": [
    "Now, if we check wether 1 is prime, we get the right answer. It will also tell us that 0, or negative numbers, are in fact, not prime.\n",
    "\n",
    "But what about numbers larger than 1? For these numbers we need to see if any numbers in the range $[2, n)$ cleanly divides it. We do this by simply testing:"
   ]
  },
  {
   "cell_type": "code",
   "execution_count": 68,
   "metadata": {},
   "outputs": [],
   "source": [
    "def is_prime(n):\n",
    "    if n <= 1:\n",
    "        return False\n",
    "    \n",
    "    for d in range(2, n):\n",
    "        if n % d == 0:\n",
    "            return False"
   ]
  },
  {
   "cell_type": "markdown",
   "metadata": {},
   "source": [
    "Recall here that `range(2, n)` gives the range $[2, n)$, i.e., $n$ is not included. This is good, because any number is divisible by itself. To check wether $n$ is cleanly divided by $d$, we check if `n % d`, the rest in the division, is 0.\n",
    "\n",
    "Finally, if we make it all the way through the loop without finding a number that divides $n$, we must have found a prime, so we can then return True:"
   ]
  },
  {
   "cell_type": "code",
   "execution_count": 69,
   "metadata": {},
   "outputs": [],
   "source": [
    "def is_prime(n):\n",
    "    if n <= 1:\n",
    "        return False\n",
    "    \n",
    "    for d in range(2, n):\n",
    "        if n % d == 0:\n",
    "            return False\n",
    "    \n",
    "    return True"
   ]
  },
  {
   "cell_type": "markdown",
   "metadata": {},
   "source": [
    "A few things that can be very confusing for beginners here is what parts of the code belongs to which loops and tests. The key to understanding this is to look at the *indentation*. The final line `return True` is only a single level in for example, so it is *not* part of the for-loop.\n",
    "\n",
    "Another detail, which you might have already assumed, is that as soon as a function returns a value, it is done. So as soon as we find a candidate $d$ that divides $n$, we know we do not have a prime, and so the function simply returns False and stops. This is why we call it \"returning\", as the flow of the program itself *returns* from inside the function, back to wherever the function call takes place.\n",
    "\n",
    "Let us test our newly created function:"
   ]
  },
  {
   "cell_type": "code",
   "execution_count": 70,
   "metadata": {},
   "outputs": [
    {
     "name": "stdout",
     "output_type": "stream",
     "text": [
      "1 is not prime\n",
      "2 is prime!\n",
      "3 is prime!\n",
      "4 is not prime\n",
      "5 is prime!\n",
      "6 is not prime\n",
      "7 is prime!\n",
      "8 is not prime\n",
      "9 is not prime\n",
      "10 is not prime\n"
     ]
    }
   ],
   "source": [
    "for n in range(1, 11):\n",
    "    if is_prime(n):\n",
    "        print(f\"{n} is prime!\")\n",
    "    else:\n",
    "        print(f\"{n} is not prime\")"
   ]
  },
  {
   "cell_type": "markdown",
   "metadata": {},
   "source": [
    "## Solving an ODE numerically\n",
    "\n",
    "Lastly, we want to show an example of how we can solve an ordinary differential equation (ODE) numerically. This is quite a big mathematical topic, which we definitely won't do justice here, but it is just to show an example of a more advanced mathematical computation in Python.\n",
    "\n",
    "As an example, we want to solve the *exponential decay* problem\n",
    "$$\\frac{{\\rm d}u}{{\\rm d}t} = -au,$$\n",
    "where $a$ is a constant.\n",
    "\n",
    "To solve such an ODE numerically, it is common to discretize it, so that we solve for given time points\n",
    "$$t_i = i\\cdot \\Delta t,$$\n",
    "for some small time step $\\Delta t$. We then say that $u_i$ is the solution at time $t_i$, i.e,, \n",
    "$$u_i = u(t_i).$$\n",
    "\n",
    "To solve the ODE we approximate the derivative with the *forward Euler* finite difference\n",
    "$$\\frac{u_{i+1} - u_{i}}{\\Delta t} = -au_i.$$\n",
    "Solving for $u_{i+1}$ gives\n",
    "$$u_{i+1} = u_{i} - au_i\\cdot \\Delta t.$$\n",
    "Given that we know the solution at time $t_i$, this let's use compute the solution one step forward in time. Combine this with a loop, and we can compute forward in time.\n",
    "\n",
    "To solve an actual case we need to define $a$ and $\\Delta t$, and then we need to choose some initial condition $u_0$. The full code then becomes"
   ]
  },
  {
   "cell_type": "code",
   "execution_count": 71,
   "metadata": {},
   "outputs": [
    {
     "data": {
      "image/png": "[encoded data removed]",
      "text/plain": [
       "<Figure size 432x288 with 1 Axes>"
      ]
     },
     "metadata": {
      "needs_background": "light"
     },
     "output_type": "display_data"
    }
   ],
   "source": [
    "# Define time step and number of steps\n",
    "dt = 0.01     # time step\n",
    "T = 10        # end time\n",
    "n = int(T/dt) # nr of steps\n",
    "\n",
    "# Define parameters and initial condition\n",
    "a = 0.4\n",
    "u0 = 4\n",
    "\n",
    "# Create a numpy array to store solutions\n",
    "t = np.zeros(n+1)\n",
    "u = np.zeros(n+1)\n",
    "u[0] = u0\n",
    "\n",
    "# Use a loop to solve equation one step at the time\n",
    "for i in range(n):\n",
    "    t[i+1] = t[i] + dt\n",
    "    u[i+1] = u[i] - a*u[i]*dt\n",
    "\n",
    "# Plot solution\n",
    "plt.plot(t, u)\n",
    "plt.show()"
   ]
  },
  {
   "cell_type": "markdown",
   "metadata": {},
   "source": [
    "### Your Turn: Solving a different ODE\n",
    "\n",
    "Now see if you can replicate this process for a different ODE. Let's pick a more complicated ODE, say\n",
    "$$\\frac{{\\rm d}u}{{\\rm d}t} = a \\sin (t) \\cdot e^{-bt}.$$\n",
    "\n",
    "Copy the code cell above (you can do this by clicking `c` and `v` in command-mode, or by using the toolbar on the top. Then change the necessary code to solve the ODE. \n",
    "\n",
    "Solve the equation for $a=1.6$, $b=0.15$ for $t\\in[0, 16\\pi]$ for $u_0 = 0$.\n"
   ]
  },
  {
   "cell_type": "markdown",
   "metadata": {},
   "source": [
    "### Solving the same ODE with `scipy.integrate.odeint`\n",
    "\n",
    "We have just walked through how we can break down and solve a ODE using a forward Euler scheme \"manually\". However, when we start on the actual material, we often won't take the time to manually break down the math and implement our own ODE solver, instead we will rely on the function `scipy.integrate.odeint`, which wraps a well developed and known FORTRAN ode-package. Let us quickly see how to solve the same problem using `odeint`. We will cover this more in detail during the L2 session, so don't worry if it seems very complicated.\n",
    "\n",
    "To solve an ODE using the `odeint` function, we must send it 4 things:\n",
    "* The ODE to solve itself represented as a Python function\n",
    "* The initial condition\n",
    "* What time points to solve for\n",
    "* Any additional parameters for the ODE\n",
    "\n",
    "To implement the first, the ODE itself, we create a Python function that returns the right hand side of the ODE. Note especially the arguments it takes in, for `odeint` to work, it specifically has to take in the state itself (in our case `u`) as the first argument, and `t` as the second (even though the ODE in our specific case does not rely on the time explicitly). Any additional parameters can be passed in as additional arguments."
   ]
  },
  {
   "cell_type": "code",
   "execution_count": 72,
   "metadata": {},
   "outputs": [],
   "source": [
    "def du_dt(u, t, a):\n",
    "    return -a*u"
   ]
  },
  {
   "cell_type": "markdown",
   "metadata": {},
   "source": [
    "We can now specify the additional three needed input, namely an array of time points, the initial condition and the parameters"
   ]
  },
  {
   "cell_type": "code",
   "execution_count": 73,
   "metadata": {},
   "outputs": [],
   "source": [
    "# Define a time array\n",
    "T = 10\n",
    "dt = 0.01\n",
    "time = np.arange(0, T, dt)\n",
    "\n",
    "# Define the initial condition\n",
    "u0 = 4\n",
    "\n",
    "# Define any additional parameters\n",
    "a = 0.4\n",
    "params = (a,)"
   ]
  },
  {
   "cell_type": "markdown",
   "metadata": {},
   "source": [
    "Note that we write `params = (a,)` because `odeint` specifically takes in the parameters as a sequence, even though we only have one, we need to turn it into a sequence. These are slightly annoying details for such a simple ODE has we have here, but for more complex ODE systems with many parameters it makes more sense."
   ]
  },
  {
   "cell_type": "markdown",
   "metadata": {},
   "source": [
    "We are now ready to solve the ODE itself by calling `odeint` and plot the solutions"
   ]
  },
  {
   "cell_type": "code",
   "execution_count": 74,
   "metadata": {},
   "outputs": [
    {
     "data": {
      "image/png": "[encoded data removed]",
      "text/plain": [
       "<Figure size 432x288 with 1 Axes>"
      ]
     },
     "metadata": {
      "needs_background": "light"
     },
     "output_type": "display_data"
    }
   ],
   "source": [
    "from scipy.integrate import odeint\n",
    "u = odeint(du_dt, u0, time, params)\n",
    "\n",
    "plt.plot(time, u)\n",
    "plt.show()"
   ]
  },
  {
   "cell_type": "markdown",
   "metadata": {},
   "source": [
    "### Your turn: Using `odeint`\n",
    "\n",
    "Now try to solve the more complex ODE, using `odeint` this time. Again, feel free to copy the code cell above and change the relevant parts. Does your new solution agree with your \"manual\" solver?"
   ]
  },
  {
   "cell_type": "markdown",
   "metadata": {},
   "source": [
    "# A final note on replication and reproducibility\n",
    "\n"
   ]
  }
 ],
 "metadata": {
  "kernelspec": {
   "display_name": "Python 3",
   "language": "python",
   "name": "python3"
  },
  "language_info": {
   "codemirror_mode": {
    "name": "ipython",
    "version": 3
   },
   "file_extension": ".py",
   "mimetype": "text/x-python",
   "name": "python",
   "nbconvert_exporter": "python",
   "pygments_lexer": "ipython3",
   "version": "3.7.4"
  }
 },
 "nbformat": 4,
 "nbformat_minor": 2
}
