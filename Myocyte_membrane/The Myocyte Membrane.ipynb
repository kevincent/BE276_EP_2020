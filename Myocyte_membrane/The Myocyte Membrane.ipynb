{
 "cells": [
  {
   "cell_type": "markdown",
   "metadata": {},
   "source": [
    "# Basic Cell Membrane Electrophysiology and Biophysics\n",
    "\n",
    "In this session we will introduce the cell membrane and its electrophysiological properties. Cells maintain an electric potential across their cell wall, and we will aim to understand how and why this membrane potential exists. We will also look at passive transport of ions through the membrane and how this affects the membrane potential. In the next session we will start looking at more complicated behavior of ion channels and how the ion channels interact to give rise to excitability and the cardiac action potential.\n",
    "\n"
   ]
  },
  {
   "cell_type": "markdown",
   "metadata": {},
   "source": [
    "Here is an overview of topics we will cover in this session\n",
    "- [The Cell Membrane](#membrane)\n",
    "- [The Membrane Potential](#potential)\n",
    "- [Planck's equation and Nernst Equilibrium](#nernst-planck)\n",
    "- [The Nernst Potential](#nernst_potential)\n",
    "- [Inward and Outward Currents](#currents)\n",
    "\n",
    "Links to accompanying exercises\n",
    "- <a href=\"Exercises on the Cell Membrane.ipynb\">E3—Exercises on the Cell Membrane</a>"
   ]
  },
  {
   "cell_type": "markdown",
   "metadata": {},
   "source": [
    "<a id=\"membrane\"></a>\n",
    "## The Cell Membrane\n",
    "\n",
    "We will now introduce the cell membrane, a very fundamental and important piece of understanding cell electrophysiology. The structure of the cell membrane is fairly complex, but its most fundamental units are quite simple, they are the *phospholipids*.\n",
    "\n",
    "<img src=\"fig/phospholipid.png\" width=250>\n",
    "\n",
    "Phospholipids are molecules that have a head consisting of a phosphate group, and two fatty acid tails. An important property of phospholipids is that the head is hydrophilic, while the tails are hydrophobic. Imagine we dissolve some phospholipids in water. If the phospholipids were to spread evenly throughout the solutions, the hydrophobic tails would be very exposed to the water, this incurs a high Gibb's energy cost due to hydrophobic interactions. This means that the phospholipids, rather than disperse evenly, will tend to clump together. This way they can attempt to partially shield their tails from the water, reducing the total hydrophobic interaction in the solution. This means phospholipids, despite being fairly simple molecules, spontaneously self-assemble into more complex structures where the tails are kept on the inside.\n",
    "\n",
    "The *lipid bilayer* is one such possible structure. In the bilayer, the phospholipids create two planar sheets that lie in parallel, with the tails of each pointing towards the center. The layers do not allow water to pass in, and so the structure very effectively hides the hydrophobic tails away from the water. The bilayer will have a fixed thickness, but there is no real limit to how large the sheet itself can be, given enough phospholipid molecules. The sheet itself is also quite flexible, and so the whole sheet can loop back around and meet itself, giving a balloon structure. The membrane of a cell is precisely such a structure.\n",
    "\n",
    "<img src=\"fig/lipid_bilayer.png\" width=400>\n",
    "\n",
    "With the closed cell membrane, there is now a clear distinction between the inside and outside of the cell, which is often referred to as the *intracellular* and *extracellular* domains. Another name for the inside of the cell is the *cytosol*, and so sometimes the word \"cytsolic\" might refer to something that is inside the cell.\n",
    "\n",
    "Note that \"inside the cell\" and \"inside the cell membrane\" now means two different things. A typical cardiomyocyte is about 10 µm in diameter and about 100 µm long, the membrane itself is only about 5 nm thick, meaning the cell membrane is very thin compared to the size of the cell."
   ]
  },
  {
   "cell_type": "markdown",
   "metadata": {},
   "source": [
    "### Permeability of the membrane to charged particles\n",
    "\n",
    "The bilayer assembles as an entropic effect to reduce the net hydrophobic interaction. This means that the lipids in the membrane are more or less free to float around within the membrane plane in relation to each other. With this image, it is not hard to imagine smaller molecules being able to slip in between the lipids and move into, or through the membrane, without affecting the integrity of the membrane structure itself. However, the membrane is discriminatory, and does not treat all ions and molecules that try to diffuse across the membrane equally.\n",
    "\n",
    "The membrane self-assembled to hide the hydrophobic tails. Stated another way, there is a non-polar environment within the membrane. Outside the membrane, we have water, which is a polar environment. This means that the membrane itself is fairly permeable to non-polar, or fat soluble, molecules, but impermeable to polar molecules. Charged ions are polar molecules, and will therefore prefer to stay in the polar environment outside the membrane. Despite its fairly thin width of a few nanometers, the non-polar environment is very effective at shielding against charged ions. While there in reality always will be a few ions that leak through by chance, we can for our following discussion assume that this transport of charge through will be completely negligible.\n",
    "\n",
    "**The important takeaway for our coming discussions is that the cell membrane is impermeable to any type of charged ion.**"
   ]
  },
  {
   "cell_type": "markdown",
   "metadata": {},
   "source": [
    "### The Cell Membrane as a Capacitor\n",
    "\n",
    "If no charged ions can pass through the membrane, then no electric current can pass through the membrane, as an electric current needs to be carried by something. This means the membrane is an electric insulator. The inside and outside of the cell however, have many dissolved charged ions, and so are both quite good electric conductors. When two electric conductors are separated by an insulator, we get what is known as an electric *capacitor*.\n",
    "\n",
    "If an electric potential is applied across a capacitor, an electric current *wants* to flow through, but the electric insulator prevents this, so instead we get a pileup of electric charge on one side of the insulator. This charge is felt by carriers of opposite charge on the other side of the insulator which will pile up on that side. These charges set up electric field that will be of equal strength to our applied voltage across the capacitor. Effectively, the electric potential across the capacitor will charge it up like a small battery.\n",
    "\n",
    "The amount of charge separated by the insulator at equilibrium will be proportional to the voltage across it\n",
    "$$V = \\frac{Q}{C_{\\rm m}}.$$\n",
    "Where the proportionality factor is called the capacitance. As we are discussing the membrane as a capacitor, we are talking about the *membrane capacitance*. It is simply a physical property of the cell membrane.\n",
    "\n",
    "The capacitance of the cell membrane is about 1 µF/cm$^2$, which means that a whole cell has a capacitance of about 0.05 nF. That might seem like very little, but a Farad is a huge unit, and one mostly see capacitances in the pF to µF range. At the same time the cell is fairly small, meaning the 0.05 nF is quite a considerable capacitance.\n",
    "\n",
    "<img src=\"fig/capacitor.png\" width=400>\n",
    "\n",
    "The variable $V$ represents the electric potential difference across the membrane, which we often just call the *membrane potential*. It is this variable we are most interested in modeling when it comes to cell electrophysiology. Why this potential is so interesting will become more apparent throughout this course, but suffice to say, it is crucial.\n",
    "\n",
    "We are interested in modeling how the membrane potential $V$ changes over time. Any time there is a change in the charge separation across the membrane, the electric field across the membrane will change and there will be a change in the membrane potential $V$ so that it perfectly cancels out this field. To find the time course of such a change, we assume the capacitor to always be at *quasi-static* equilibrium, i.e., we assume the equilibrium equation to hold at all times. Because electric phenomenon are very fast, this is a very good approximation.\n",
    "\n",
    "As we assume the proportionality equation to hold at all times, we can derivative it to find the differential equation\n",
    "$$\\frac{{\\rm d} Q}{{\\rm d}t} = C_{\\rm m} \\frac{{\\rm d} V}{{\\rm d} t}.$$\n",
    "The time derivative of a charge can be interpreted as a current, and we call this the *capacitive current*, or $I_{\\rm cap}$. The capacitive current is called a *virtual* current, as it isn't an actual carrier mediated current carried across the insulator (which cannot happen), but rather a current that comes from the charge build up or release of built up charge.\n",
    "\n",
    "We now reorder the expression to find\n",
    "$$\\frac{{\\rm d} V}{{\\rm d}t} = \\frac{1}{C_{\\rm m}} I_{\\rm cap}.$$\n",
    "We now have a differential equation we can use to model how the membrane potential changes over time.\n"
   ]
  },
  {
   "cell_type": "markdown",
   "metadata": {},
   "source": [
    "## The Membrane Potential\n",
    "<a id=\"potential\"></a>\n",
    "\n",
    "To summary what we have just discussed, the cell membrane itself can be thought of as an electric capacitor separating the inside and the outside of the cell. We can simply think of it as an electric component in an electric circuit:\n",
    "\n",
    "<img src=\"fig/cap_circuit.png\" width=125>\n",
    "\n",
    "Here we can denote the intracellular and extracellular potentials as $V_{\\rm i}$ and $V_{\\rm e}$. We mentioned that the membrane potential $V$ is the potential difference, but as you see, it can be defined in either direction. In practice, it is most common to define it as\n",
    "$$\\Delta V = V_{\\rm i} - V_{\\rm e}.$$\n",
    "Even though the membrane potential is the potential difference, we denote it as simply as $V$, forgoing the $\\Delta\n",
    "$-symbol for neater notation."
   ]
  },
  {
   "cell_type": "markdown",
   "metadata": {},
   "source": [
    "#### Modeling a Voltage Clamp Protocol\n",
    "\n",
    "We are now ready to look at the first modeling exercise in this session\n",
    "* <a href=\"Exercises on the Cell Membrane.ipynb\">Exercise 1: A simple voltage clamp model</a>\n"
   ]
  },
  {
   "cell_type": "markdown",
   "metadata": {},
   "source": [
    "<a id=\"ionic\"></a>\n",
    "### Ionic membrane Currents\n",
    "\n",
    "We have now seen that the cell membrane itself is impermeable to charged ions, and thus acts as an electric insulator and therefore as a capacitor. However, this is not the whole story. In the membrane itself, proteins can be embedded. By giving proteins a non-polar \"waist\", and polar caps, these proteins can be anchored in the membrane. Many different such proteins exist in the cell membrane, and have different roles. For our discussion, the important proteins are the *ion channels*. These proteins have a specific shape, creating a pore in the membrane where ions can pass through. Inside this channel, there is usually a part of the protein that acts as a *selectivity filter*, allowing only ions of a specific species to pass through.\n",
    "\n",
    "<img src=\"fig/ion_channel.png\" width=800>\n",
    "\n",
    "* **Left:** A schematic of an ion-specific channel. The black ring represents the selectivity filter. \n",
    "* **Right:** The protein structure of a K$^+$-specific ion channel. [Image from Wikimeda Commons](https://commons.wikimedia.org/wiki/File:My_molecule_image_2.png) used under a [CC BY-SA 4.0 license](https://creativecommons.org/licenses/by-sa/4.0). \n",
    "\n",
    "Ion channels are quite complicated in both structure and function, and modeling them is one of the main topics of this course. In the rest of this lecture we won't really focus on how the ion channels work however, but rather look at electrodiffusion. Understanding this phenomenon will be crucial in understanding how to model ion channels, which will be the focus of the coming sessions."
   ]
  },
  {
   "cell_type": "markdown",
   "metadata": {},
   "source": [
    "<a id=\"diffusion\"></a>\n",
    "## Diffusion and Fick's Laws\n",
    "\n",
    "At the microscopic level, ions and molecules are not stationary, but rather zip around at high speeds due to *thermal motion*. If you were to look at a single molecule and track its motion, you would find it chaotic and hard to describe and predict. If we zoom out however, and look at a large number of particles simultaneously, we actually see very organized and deterministic behavior. The motion of a large number of particles is described through the process of *diffusion*, which in turn is described by Fick's laws of diffusion.\n",
    "\n",
    "#### Fick's First Law of Diffusion\n",
    "\n",
    "Fick's first law of diffusion states that there will be a net diffusive motion of particles if there is a concentration gradient present. The flux of particles is proportional in magnitude to the concentration gradient. We can express it in 1D as \n",
    "$$J(x) = -D \\frac{\\partial c(x)}{\\partial x},$$\n",
    "and in higher dimensions, such as normal 3D space, as\n",
    "$$\\vec{J}(\\vec{r}) = -D \\nabla c(\\vec{r}).$$\n",
    "Here, $J$ is the net flux, $c$ the concentration and $D$ the proportionality constant, called the *diffusivity* or *diffusion coefficient*. Note that while both $J$ and $c$ are field variables, meaning they have different values in different locations, we will from now on forgo writing their spatial arguments to get a neater notation, we will also skip the vector arrow on the flux $J$.\n",
    "\n",
    "Fick's law holds true for each species independently, so it is often written with subindices\n",
    "$$J_k = -D_k \\nabla c_k.$$\n",
    "\n",
    "It is important to understand that diffusion only describes the net motion of a large number of particles. If the concentration is constant throughout a container, there is no concentration gradient, and thus no diffusive flux. There is still chaotic molecular motion, but this will be of equal magnitude in all directions, and so the total or net motion is zero.\n",
    "\n",
    "To understand what diffusion means for the behavior of the cell, let us look at a simple example. Assume we have a box, separated at the middle by a partition. The left side is filled with a gas, while the right is completely empty. If we now remove the partition, what happens? Because there is a high concentration on the left hand side, and a low concentration on the right hand side, there is a concentration gradient. Fick's law then states that there will be a net diffusive flux of particles towards the right. This flux will continue until the concentration is evenly spread throughout the box, and there is no concentration gradients present anymore.\n",
    "\n",
    "At the molecular level, when the partition is removed, the gas molecules are now free to move around the entire container, and so they will, by random motion, tend to fill everywhere evenly. There is no force pulling the molecules into the \"vacuum\" on the right. What you might think of as a pressure difference is a macroscopic property we assign to the system to describe what happens, at the molecular level, there is no \"pressure\", only diffusion.\n",
    "\n",
    "We can repeat the the thought experiment, but this time the right is filled with a different gas. So that each side of the box has the same amount of gas molecules, but each with their own type. What happens when we remove the divide now? As diffusion is species-specific, each species have their own concentration gradient, pointed in the opposite directions. The two gasses will diffuse past each other, and eventually we end up with a container with an evenly mixed distribution of gasses.\n",
    "\n",
    "<img src=\"fig/diffusion.png\" width=450>\n",
    "\n",
    "Through these two simple examples, you can notice that diffusion will tend to even out and smooth concentration differences. It is also responsible for mixing everything together, as each species will be evenly distributed throughout the solution.\n",
    "\n",
    "Without going into to much detail, diffusion is a scale-dependent effect. If you pour milk into your coffee, diffusion will tend to spread it out and mix the two together. However, this takes a very long time, and in practice we therefore stir the mixture to help things along. It is therefore easy to think of diffusion as a very slow process. However, this is not true for all spatial scales. At the smaller scale of the cell for example, diffusion is *much* faster, so fast that we can often model tiny spaces as well mixed at all times."
   ]
  },
  {
   "cell_type": "markdown",
   "metadata": {},
   "source": [
    "## Passive and active ion transport\n",
    "\n",
    "We described ion channels as structures in the membrane that create a pore for ions to move through. The movement itself through these pores has to occur spontaneously as is driven by diffusion. This is called *passive ion transport*, as the channel isn't actually doing any transporting, it only creates the channel that makes the spontaneous motion of ions possible.\n",
    "\n",
    "The alternative to passive ion transport is *active ion transport*. In this kind of ion transport, ions are actively moved by molecular machinery. To emphasize the active nature of these transporters, they are known as ion pumps or exchangers. These active transporters spend energy in the form of ATP to pump ions against their concentration gradient, defying diffusion in the process.\n",
    "\n",
    "An analogy: Passive transporters are like staircases, they allow people to move between floors, but to use the staircase, people have to walk on their own. Active transporters are like elevators, they also move people between floors, but this time actively move the people.\n",
    "\n",
    "For the rest of this session, we will only look at the *passive* ion transport.\n"
   ]
  },
  {
   "cell_type": "markdown",
   "metadata": {},
   "source": [
    "<a id=\"nernst-planck\"></a>\n",
    "## The Nernst-Planck Equation\n",
    "\n",
    "We have seen that a concentration gradient will cause particles to spontaneously move due to diffusion. If these particles are electrically charged, they will also move in response to an electric field. When looking at the movement of charged particles, such as ions, we therefore have to consider two different driving forces, diffusive flux and electric drift. The net flux of these ions will then be given by\n",
    "$$J = J_{\\rm diff} + J_{\\rm drift}.$$\n",
    "The combined effects of diffusion and electric forces is called *electrodiffusion*.\n",
    "\n",
    "The two driving forces are given by the expressions\n",
    "$$\\qquad J_{\\rm diff} = -D\\nabla c, \\qquad J_{\\rm drift} = -\\frac{DzF}{RT}c\\nabla V.$$\n",
    "The diffusive term is simply Fick's law, which we have just discussed. The electric drift is an expression we just introduced. The drift occurs as a response to an electric field, here expressed as the gradient of an electric potential $E = -\\nabla V$. The rest of the variables are the diffusion constant $D$, the Faraday constant $F$, the gas constant $R$, the temperature $T$ and the valence of the species in question, $z$.\n",
    "\n",
    "Writing out the total net flux gives the Nernst-Planck Equation:\n",
    "$$J = -D\\bigg(\\nabla c + \\frac{zF}{RT}c\\nabla V\\bigg).$$\n",
    "Note that the diffusive and electric driving forces are in general independent of each other, and they can therefore point in the same direction, or in opposite directions.\n",
    "\n",
    "If the two driving forces point in opposite directions, and are of equal magnitude, we end up in an equilibrium situation where there will be no net motion of charged particles, despite there being a concentration gradient and an electric field acting on the particles. Put simply, the diffusive and electric forces cancel each other out."
   ]
  },
  {
   "cell_type": "markdown",
   "metadata": {},
   "source": [
    "## Passive ion transport through ion channels\n",
    "\n",
    "Passive ion transport occurs because charged ions move spontaneously due to both diffusive and electric forces. The movement of a charged ion through a passive ion channels is therefore governed bed the Nersnt-Planck equation\n",
    "$$J = -D\\bigg(\\nabla c + \\frac{zF}{RT}c\\nabla V\\bigg).$$\n",
    "We will now try to understand what this equation says about passive ion transport.\n",
    "\n",
    "Let us start of with an example. Assume we have a mixture of positively charged K$^+$-ions and negatively charged $X^-$-ions. There are equal amounts of either, so the mixture is electrically neutral. Now we place a high concentration of the mixture inside the cell, and a low concentration outside the cell. Both sided of the membrane are noe electrically neutral, and there is no membrane potential ($V=0$). However, there is a concentration gradient for the K$^+$ ions.\n",
    "\n",
    "The membrane is impermeable to charged ions, however, assume now that some potassium ion channels in the membrane open up, meaning potassium ions are free to move through the membrane. What will happen?\n",
    "\n",
    "Just as the channel opens, there is a concentration gradient for potassium across the membrane, but no electric potential. This means that the Nernst-Planck equation reduces to Fick's law, and potassium will start to diffuse out of the cell. Note that the X$^-$-ions cannot diffuse, as the channels only allows potassium ions to pass through.\n",
    "\n",
    "However, after some time, as K$^+$-ions start leaving the cell, they leave behind a surplus of negatively charged X$^-$-ions, meaning the inside of the cell is becoming negatively charged. Likewise, just outside the cell there starts to become a build-up of positively charged ions. This means an electric field starts forming over the membrane. This electric field will start inhibiting the potassium from leaving the cell, as the electric force will oppose the diffusion.\n",
    "\n",
    "Because of the electric field across the membrane, it will also start to be charge up like a capacitor, as we discussed earlier. This means the potassium that is leaving the cell will be kept close to the membrane, while negatively charged ions inside the cell will be dragged towards the membrane. Eventually the membrane potential becomes strong enough for the diffusive flux and the electric drift to cancel out. \n",
    "\n",
    "We have now reached a new equilibrium. There is still a concentration gradient of potassium across the membrane, as well as a net membrane potential. But it is an equilibrium, as nothing is changing in time. We summarize the situation in the figure below.\n",
    "\n",
    "<img src=\"fig/reversal_potential.png\" width=1000>\n",
    "\n",
    "* **Left:** There is a higher concentration of K$^+$ inside the cell, but the system is electrically neutral everywhere.\n",
    "* **Center:** Channels open and potassium starts to leave the cell due to diffusion as a result of the concentration gradient.\n",
    "* **Right:** As potassium leaves the cell, it leaves behind a surplus of negative electric charge, while the outside gets a surplus of positive charge. Therefore an electric field emerges, which eventually becomes strong enough to stop any further motion. The system has reached a new equilibrium."
   ]
  },
  {
   "cell_type": "markdown",
   "metadata": {},
   "source": [
    "<a id='nernst_potential'></a>\n",
    "## The Nernst Potential\n",
    "\n",
    "At what potential does the net transport of ions through the channels stop? We can use the Nernst-Planck equation to find this equilibrium value. Because we are finding an equilibrium, there must be zero net flux, so we get\n",
    "$$J = -D\\bigg(\\nabla c + \\frac{zF}{RT}c\\nabla V\\bigg) = 0.$$\n",
    "We first note that we can discard the diffusion coefficient entirely, apparently, the *speed* at which diffusion happens won't affect the conditions for *if* diffusion happens. This leaves\n",
    "$$\\nabla c = \\frac{zF}{RT}c\\nabla V.$$\n",
    "To make sense of this equation, let us make a rough sketch of the membrane and the concentration and electric gradients. Assuming the outside and inside are well mixed, there are only gradients across the membrane itself.\n",
    "\n",
    "<img src=\"fig/nernst.png\" width=400>\n",
    "\n",
    "The gradients are pointed straight through the membrane, so we can turn the equation one-dimensional\n",
    "$$\\frac{{\\rm d} c}{{\\rm d} x} = \\frac{zF}{RT}c\\frac{{\\rm d} V}{{\\rm d} x}.$$\n",
    "To find an expression for the potential $V$, we integrate this equation across the membrane\n",
    "$$\\int_0^L \\frac{1}{c} \\frac{{\\rm d} c}{{\\rm d} x} \\ {\\rm d} x = \\frac{zF}{RT} \\int_0^L  \\frac{{\\rm d} V}{{\\rm d} x} \\ {\\rm d} x.$$\n",
    "With a substitution of variables\n",
    "$$\\int_0^L \\frac{1}{c} \\ {\\rm\\ d} c = \\frac{zF}{RT} \\int_0^L  {\\rm d} V.$$\n",
    "Which gives\n",
    "$$\\ln c_{\\rm e} - \\ln c_{\\rm i} = \\frac{zF}{RT}(V_{\\rm e} - V_{\\rm i}).$$\n",
    "And so the equilibrium condition can be summarized as\n",
    "$$V_{\\rm eq} = \\frac{RT}{zF} \\ln \\frac{c_{\\rm e}}{c_{\\rm i}}.$$\n",
    "At this specific membrane potential (for a given concentration difference), the electric and diffusion forces on the ions perfectly balance, giving no net transport of ions across the membrane.\n",
    "\n",
    "This equilibrium potential is referred to as the *Nernst potential*. It is specific to a given ion species, as it depends on the ionic concentrations $c_i$ and $c_e$, and the valency $z$. It is therefore often denoted as $E_{\\rm X}$ for ionic species X. So for example the Nernst potential for sodium, potassium and calcium would be: $E_{\\rm Na}$, $E_{\\rm K}$ and $E_{\\rm Ca}$ respectively."
   ]
  },
  {
   "cell_type": "markdown",
   "metadata": {},
   "source": [
    "### Finding the Nernst Potential via Gibbs Energy\n",
    "\n",
    "An even simpler way of finding an expression for the Nernst potential is to use the fact that there is no change in Gibb's energy for a process at equilibrium ($\\Delta G = 0$). Thus, the process of moving an ion across the membrane should not incur any change in the Gibb's energy, given that $V = E_{\\rm X}$.\n",
    "\n",
    "The Gibb's energy for a particle inside the cell is\n",
    "$$G_{\\rm i} = G^0 + RT\\ln [{\\rm X}]_{\\rm i} + zFV_{\\rm i},$$\n",
    "while on the outside it is\n",
    "$$G_{\\rm e} = G^0 + RT\\ln [{\\rm X}]_{\\rm e} + zFV_{\\rm e}.$$\n",
    "When we combine the two, the standard free energy cancel out, giving the net change\n",
    "$$\\Delta G = G_{\\rm i} - G_{\\rm e} = RT \\ln \\frac{[{\\rm X}]_{\\rm i}}{[{\\rm X}]_{\\rm e}} + zFV.$$\n",
    "And so, because $\\Delta G = 0$ we get\n",
    "$$zFV =  RT \\ln \\frac{[{\\rm X}]_{\\rm i}}{[{\\rm e}]_{\\rm i}},$$\n",
    "or\n",
    "$$V = \\frac{RT}{zF}\\ln \\frac{[{\\rm X}]_{\\rm e}}{[{\\rm X}]_{\\rm i}} = E_{\\rm X},$$\n",
    "which is the Nernst potential.\n",
    "\n",
    "While the two derivations of the Nernst potential might look very different, they both rely on the same underlying assumptions. And so it might be a good idea to become comfortable with both derivations."
   ]
  },
  {
   "cell_type": "markdown",
   "metadata": {},
   "source": [
    "### Calculating Nernst Potentials\n",
    "\n",
    "You can now use the formula we have derived to compute some Nernst potentials\n",
    "* <a href=\"Exercises on the Cell Membrane.ipynb#2\">Exercise 2: Calculating Nernst Potentials</a>\n"
   ]
  },
  {
   "cell_type": "markdown",
   "metadata": {},
   "source": [
    "<a id='currents'></a>\n",
    "## Inward and Outward Currents\n",
    "\n",
    "The following table gives typical values for mammalian cardiomyocytes and the resulting Nernt potentials\n",
    "\n",
    "| Ion        | Intracellular | Extracellular  | Nernst Potential |\n",
    "| -----------|:-------------:| -----:|----------:|\n",
    "| Sodium     | 8 mM          | 110 mM | +70 mV |\n",
    "| Potassium  | 100 mM        | 4 mM  | -86 mV |\n",
    "| Calcium    | 0.2 µM        | 1 mM  | +114 mV |\n",
    "\n",
    "We see that the Nernst potentials of these three species are very different. This means they will drive the membrane potential in different directions. Sodium and calcium transport will want to push membrane potential up, while potassium transport will tend to pull it down.\n",
    "\n",
    "Looking at the concentrations in the table, this seems reasonable. Sodium and calcium have large inwards concentration gradient pressures, these ions *want* to enter the cell, which raises the membrane potential. Because of this, we refer to sodium and calcium currents as **inward currents**. Likewise, potassium is much more abundant in the cell, and so has a large concentration gradient pressure to leave the cell, which lowers the potential. Potassium is therefore an **outward** current.\n",
    "\n",
    "If we imagine we have three different cells, each with a membrane only permeable to a specific ion: Na$^+$, K$^+$ and Ca$^{2+}$, these three cells would have membrane potentials equal to the Nernst potentials of these three species.\n",
    "\n",
    "<img src=\"fig/nernst_potentials.png\" width=600>\n",
    "\n",
    "* **Left:** There are huge concentration differences in charged ions inside and outside the cell that leads to diffusive \"pressure\" for such ions. For some, like sodium (Na$^+$) and calcium (Ca$^{2+}$) this drives inwards current, while for others, such as potassium (K$^+$), it drives outwards currents.\n",
    "* **Right:** The Nernst equilibrium, where the electrical and diffusive driving forces cancel out and there is no net flux of ions across the membrane. As the different species have different concentrations, this equilibrium potential is species specific.\n",
    "\n",
    "But what about a cell that has a membrane that has ion channels of all three types? What membrane potential does this cell have? To understand this, we will have to model passive ion transport.\n"
   ]
  },
  {
   "cell_type": "markdown",
   "metadata": {},
   "source": [
    "## The Nernst Potential as a driving force\n",
    "\n",
    "If the cell membrane is permeable to an ion type, and the membrane potential is different to the Nernst potential of that ion type, there will be a net transport of ions through the membrane. \n",
    "\n",
    "Let's take Na$^+$ as an example, if the membrane has open sodium channels, ions of this type can move through the membrane. If $V=E_{\\rm Na}$, they have no desire to do so, but if $V \\neq E_{\\rm Na}$, there will be a net transport of sodium that tries to shift the membrane potential closer to the Nernst potential. This means that if $V < E_{\\rm Na}$, sodium will enter into the cell (influx), while if $V > E_{\\rm Na}$, sodium will tend to leave the cell, to shift the membrane potential downward (efflux). For this reason, the Nernst potential is also often called the *reversal potential*, because this is the potential at which a given flux of ions reverses its direction.\n",
    "\n",
    "The bigger the difference in the actual membrane potential, and the equilibrium Nernst potential, the stronger the current will be. We refer to the difference $(V - E_{\\rm Na})$ as the *driving force*. To find the actual current, we assume it to be Ohmic, meaning the magnitude of the current is directly proportional to the driving force\n",
    "$$I_{\\rm Na} = g_{\\rm Na} (V - E_{\\rm Na}).$$\n",
    "The proportionality factor is the *conductance*, $g_{\\rm Na}$, which is also species specific. The more open sodium channels there are in the membrane, the more ions can pass through per time, and the stronger the conductance and the stronger the current for a given driving force. The conductance is also the inverse of electrical resistance $g = 1/R$, so this is just a formulation of Ohm's law ($I = V/R$), but with the driving force being replaced by $V - E_{\\rm Na}$, as we are now looking at electrodiffusion, and not just electric forces.\n",
    "\n",
    "For the cell only permeable to Na$^+$-ions, we can represent the cell as the electric circuit to the left\n",
    "\n",
    "<img src=\"fig/ohmic_currents.png\" width=600> \n",
    "\n",
    "* **Left:** Cell membrane only permeable to sodium\n",
    "* **Right:** Cell membrane permable to sodium, potassium and calcium at the same time\n",
    "\n",
    "Denoting the sodium current as $I_{\\rm Na}$ in the current to the left, we can denote the total current out of the cell as\n",
    "$$I_{\\rm tot} = I_{\\rm cap} + I_{\\rm Na}.$$\n",
    "Like for our voltage clamp example, we will argue that this total current in effect will be zero. This is because any current through the sodium channels will distribute across the membrane itself, effectively charging it, which is expressed as the capacitive current. If $I_{\\rm tot}$ was different from 0 there would be a net charge leaving the cell, which would not be sustainable over a longer time perspective, as charge separation requires large amounts of energy.\n",
    "\n",
    "This means we can express the change of the membrane potential over time as\n",
    "$$C_{\\rm m}\\frac{{\\rm d}V}{{\\rm d}t} = I_{\\rm cap} = -I_{\\rm Na}.$$\n",
    "Which, when inserting for our Ohmic current gives\n",
    "$$C_{\\rm m}\\frac{{\\rm d}V}{{\\rm d}t} = - g_{\\rm Na} (V-E_{\\rm Na}).$$\n",
    "\n",
    "If we want to include currents of all three ionic species, then the total current is given as\n",
    "$$I_{\\rm tot} = I_{\\rm cap} + I_{\\rm ion} = I_{\\rm cap} + I_{\\rm Na} + I_{\\rm K} + I_{\\rm Ca} = 0.$$\n",
    "Which gives the ODE\n",
    "$$C_{\\rm m}\\frac{{\\rm d}V}{{\\rm d}t} = -\\big[g_{\\rm Na} (V-E_{\\rm Na}) + g_{\\rm K} (V-E_{\\rm K}) + g_{\\rm Ca} (V-E_{\\rm Ca})\\big].$$"
   ]
  },
  {
   "cell_type": "markdown",
   "metadata": {},
   "source": [
    "### Modeling the membrane equilibrium potential\n",
    "\n",
    "You should now take some time to try to solve the ODEs we have presented and how they behave\n",
    "* <a href=\"Exercises on the Cell Membrane.ipynb#3\">Exercise 3: The Equilibrium Membrane Potential</a>"
   ]
  }
 ],
 "metadata": {
  "kernelspec": {
   "display_name": "Python 3",
   "language": "python",
   "name": "python3"
  },
  "language_info": {
   "codemirror_mode": {
    "name": "ipython",
    "version": 3
   },
   "file_extension": ".py",
   "mimetype": "text/x-python",
   "name": "python",
   "nbconvert_exporter": "python",
   "pygments_lexer": "ipython3",
   "version": "3.7.4"
  }
 },
 "nbformat": 4,
 "nbformat_minor": 2
}
