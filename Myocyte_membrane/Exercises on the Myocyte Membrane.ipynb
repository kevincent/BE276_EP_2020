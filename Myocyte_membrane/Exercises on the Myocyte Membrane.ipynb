{
 "cells": [
  {
   "cell_type": "markdown",
   "metadata": {},
   "source": [
    "# Exercises on the Cell Membrane\n",
    "\n",
    "In this notebook, we introduce some exercises which revolve around modeling and understanding the cell membrane and it's equilibrium behavior. This forms the basis of understanding ion channels, which is the upcoming topic of the course.\n",
    "\n",
    "The notebook contains four exercises:\n",
    "* [Exercise 1: A simple voltage clamp model](#1)\n",
    "* [Exercise 2: Calculating Nernst Potentials](#2)\n",
    "* [Exercise 3: The Equilibrium Membrane Potential](#3)"
   ]
  },
  {
   "cell_type": "code",
   "execution_count": null,
   "metadata": {},
   "outputs": [],
   "source": [
    "import numpy as np\n",
    "import matplotlib.pyplot as plt\n",
    "from scipy.integrate import odeint"
   ]
  },
  {
   "cell_type": "markdown",
   "metadata": {},
   "source": [
    "<a id=\"1\"></a>\n",
    "### Exercise 1: A simple voltage clamp model\n",
    "\n",
    "In this first exercise, we will explore how the cell behaves as a capacitor. We now look at the cell as only the impermeable membrane, with no ion channels. We then look at an experimental setup where we insert a small pipette through the membrane, into the cell. With this probe we can measure the membrane potential using a voltmeter.\n",
    "\n",
    "We will now look at how this pipette can be used to implement a *voltage clamp*. A voltage clamp is a useful experimental setup used to control the membrane potential. If our voltmeter measures a membrane potential different to our desired target potential, a bit of applied current is injected through the pipette, changing the membrane potential as a result.\n",
    "\n",
    "We can think of the situation as this electric circuit:\n",
    "\n",
    "<img src=\"fig/voltage_clamp_circuit.png\" width=250>\n",
    "\n",
    "#### The differential equations\n",
    "\n",
    "We know that the electric potential over the two components must be the same, and this is the membrane potential $V$. We want to find this potential as a function of time $V(t)$. Ideally, it should follow our prescribed, $V_{\\rm target}(t)$, which can be constant in time, or whatever time-dependent function we want.\n",
    "\n",
    "Our pipette acts as an Ohmic current source, with a magnitude given by\n",
    "$$I_{\\rm applied} = \\frac{V - V_{\\rm target}}{Rs}.$$\n",
    "Note that this current is larger if the membrane potential is far from its target, and dies out once the potential approaches its target value.\n",
    "\n",
    "Any current across the pipette will lead to a similar capacitive current across the membrane, which will change the charge built up across the membrane. So we have\n",
    "$$C_{\\rm m} \\frac{{\\rm d}V}{{\\rm d}t} = I_{\\rm cap} = -I_{\\rm applied}.$$\n",
    "Giving an ODE for the membrane potential\n",
    "$$\\frac{{\\rm d}V}{{\\rm d}t} = \\frac{V_{\\rm target}(t) - V}{C_{\\rm m} R_{\\rm s}}.$$\n",
    "\n",
    "If you are not too used to analyzing electrical circuits and you found this hard to follow, the most important thing is we found an ODE for how the membrane potential changes over time, which you will now solve."
   ]
  },
  {
   "cell_type": "markdown",
   "metadata": {},
   "source": [
    "\n",
    "**Exercise 1a)**\n",
    "\n",
    "Let the prescribed membrane potential be the following step function\n",
    "$$V_{\\rm target}(t) = \\begin{cases}\n",
    "-40 {\\rm\\ mV} & \\mbox{if } 2 {\\rm\\ ms} < t < 6 {\\rm\\ ms}, \\\\\n",
    "-80 {\\rm\\ mV}& \\mbox{else.}\n",
    "\\end{cases}$$\n",
    "Implement this as a function `V_target(t)` and plot it in the period $t\\in[0, 10]$ ms.\n",
    "\n",
    "*Hint:* Rather than use `if`-tests, you could use boolean math: `x*(t > 2)*(t < 6)`, which lets your function take in both a scalar `t`, but also a full time array in the form of a numpy array."
   ]
  },
  {
   "cell_type": "code",
   "execution_count": null,
   "metadata": {},
   "outputs": [],
   "source": [
    "def V_target(t):\n",
    "    return ... # Edit here\n",
    "\n",
    "t = np.linspace(...) # Check numpy documentation or Intro to Python notebook if you don't know how linspace works\n",
    "\n",
    "plt.plot(t, V_target(t))\n",
    "plt.show()"
   ]
  },
  {
   "cell_type": "markdown",
   "metadata": {},
   "source": [
    "**Exercise 1b)**\n",
    "\n",
    "We will let $V$ be denoted in millivolts and time in milliseconds. Let $C_{\\rm m} = 0.05$ nF and $R_{\\rm s} = 10$ M$\\Omega$. Look at the ODE and make sure the units are consistent by hand. Make any necessary changes to units. For reference, the ODE we aim to solve is \n",
    "$$\\frac{{\\rm d}V}{{\\rm d}t} = \\frac{V_{\\rm target} - V}{C_{\\rm m} R_{\\rm s}}.$$"
   ]
  },
  {
   "cell_type": "markdown",
   "metadata": {},
   "source": [
    "**Exercise 1c)**\n",
    "\n",
    "Now, implement the RHS of the ODE-system and use `odeint` to solve it to find the membrane potential $V(t)$ in the period $t \\in [0, 10]$ ms. Let the parameters and units be as given in (1b) and the initial condition be $V_0 = -80$ mV.\n",
    "\n",
    "Plot your solution."
   ]
  },
  {
   "cell_type": "code",
   "execution_count": null,
   "metadata": {},
   "outputs": [],
   "source": [
    "def rhs(V, t, Cm, Rs):\n",
    "    dV_dt = ...\n",
    "    return dV_dt"
   ]
  },
  {
   "cell_type": "code",
   "execution_count": null,
   "metadata": {},
   "outputs": [],
   "source": [
    "# Define time array\n",
    "dt = ...\n",
    "T = ...\n",
    "time = np.arange(0, T, dt)\n",
    "\n",
    "# Define parameters\n",
    "Cm = ... # nF\n",
    "Rs = ... # MOhm\n",
    "params = (Cm, Rs)\n",
    "\n",
    "# Define initial condition\n",
    "V0 = ... # mV\n",
    "\n",
    "# Call odeint\n",
    "V = odeint(rhs, V0, time, params)"
   ]
  },
  {
   "cell_type": "code",
   "execution_count": null,
   "metadata": {},
   "outputs": [],
   "source": [
    "# Plot Solution\n",
    "..."
   ]
  },
  {
   "cell_type": "markdown",
   "metadata": {},
   "source": [
    "**Exercise 1d)**\n",
    "\n",
    "Compare your solution of $V(t)$ to your plot of the prescribed $V_{\\rm target}(t)$. Describe the differences. \n",
    "\n",
    "To make comparison easier, it might be a nice idea to plot the two over each other in the same figure."
   ]
  },
  {
   "cell_type": "markdown",
   "metadata": {},
   "source": [
    "\n",
    "**(Optional) Exercise 1e)**\n",
    "\n",
    "Solve the ODE by hand. What kind of ODE/solution is this? What is the most important functional parameter in this solution? \n",
    "\n",
    "(Solution is in Markdown code - just remove the comment)\n",
    "\n",
    "[//]: # (Below is how to solve the ODE analytically\n",
    "$$\\frac{{\\rm d}V}{{\\rm d}t} = \\frac{V_{\\rm target} - V}{C_{\\rm m} R_{\\rm s}}.$$\n",
    "If we redefine $u = V_{\\rm target} - V$, we see that the ODE is separabel:\n",
    "$$-\\frac{{\\rm d}u}{{\\rm d}t} = \\frac{u}{C_{\\rm m} R_{\\rm s}}.$$\n",
    "So we flip it around to be\n",
    "$$- \\frac{1}{u} {\\rm\\ d}u = \\frac{1}{C_{\\rm m} R_{\\rm s}} {\\rm\\ d}t.$$\n",
    "Integrating gives\n",
    "$$\\ln u = -\\frac{t}{C_{\\rm m} R_{\\rm s}} + C.$$\n",
    "or\n",
    "$$u = Ae^{-t/(C_{\\rm m}\\cdot R_{\\rm s})}.$$\n",
    "Now we insert for $u$ so we get\n",
    "$$V(t) = V_{\\rm target} - Ae^{-t/(C_{\\rm m}\\cdot R_{\\rm s})}.$$\n",
    "We know that $V(0) = V_0$ so we get\n",
    "$$V(t) = V_{\\rm target} - (V_{\\rm target} - V_0)e^{-t/(C_{\\rm m}\\cdot R_{\\rm s})}.$$\n",
    "This means the function is an exponential decay towards the target value, with a time constant of $\\tau = C_{\\rm m}\\cdot R_{\\rm s}.$)"
   ]
  },
  {
   "cell_type": "markdown",
   "metadata": {},
   "source": [
    "**Exercise 1f)**\n",
    "\n",
    "Run the interactive widget below, and see how the membrane potential response changes as you change the membrane capacitance $C_{\\rm m}$ and the series resistance $R_{\\rm s}$. (You might need to run the cell twice for it to work).\n",
    "\n",
    "If you want the membrane potential to follow the prescribed voltage as closely as possible, what restrictions does this put on $C_{\\rm m}$ and $R_{\\rm s}$?"
   ]
  },
  {
   "cell_type": "code",
   "execution_count": null,
   "metadata": {},
   "outputs": [],
   "source": [
    "from widget.L3_widgets import VoltageClampWidget\n",
    "\n",
    "VoltageClampWidget().display()"
   ]
  },
  {
   "cell_type": "markdown",
   "metadata": {},
   "source": [
    "#### Discussion on Exercise 1\n",
    "\n",
    "As you have probably seen through playing with the widget, for the voltage to follow the prescribed voltage, we want both the membrane capacitance and the series resistance to be small. In fact, it is the product of the two that is important, as this is the characteristic time constant of the membrane response:\n",
    "$$\\tau = C_{\\rm m}\\cdot R_{\\rm s}.$$ \n",
    "If you solved (1e) you might have noticed this already. Simply put, the model says that the actual membrane potential will approach the prescribed potential as an exponential relaxation, with a relaxation time of $\\tau$. If $\\tau$ is big, we will need to wait a long time for it to reach the prescribed value.\n",
    "\n",
    "For a whole cell voltage clamp protocol, the cell membrane capacitance is typically 0.05 nF, and the series resistance is usually in the range 5-20 M$\\Omega$. This gives a noticeable delay in the membrane potential response, and capacitive currents that persist over several milliseconds. This can actually disturb the measurement of other currents, introducing noise.\n",
    "\n",
    "In another technique, the 'patch' clamp, a small patch of the membrane is torn of (1 µm$^2$). This means the capacitance, $C_{\\rm m}$ is drastically lowered ($\\sim0.01$ pF). In a patch clamp, the series resistance is usually in the G$\\Omega$ range, so the time constant becomes very small, and there are usually little noise due to the capacitive currents."
   ]
  },
  {
   "cell_type": "markdown",
   "metadata": {},
   "source": [
    "<a id=\"2\"></a>\n",
    "### Exercise 2: Calculating Nernst Potentials\n",
    "\n",
    "The following table gives typical values for mammalian cardiomyocytes, and is taken from [Katz, 2010]\n",
    "\n",
    "| Ion        | Intracellular | Extracellular  |\n",
    "| -----------|:-------------:| -----:|\n",
    "| Sodium     | 8 mM          | 110 mM |\n",
    "| Potassium  | 100 mM        | 4 mM  |\n",
    "| Calcium    | 0.2 µM        | 1 mM  |\n",
    "\n",
    "You will also need to know these physical constants\n",
    "\n",
    "| Name | Symbol  | Value | Unit |\n",
    "| -----------|:-------------:|-----:|------:|\n",
    "| Faraday's constant  | $F$ | 96485 | C/mol |\n",
    "| Gas Constant | $R$ |  8.314 | J/(mol K) |\n",
    "| Temperature | $T$ | 310|  K | \n",
    "\n"
   ]
  },
  {
   "cell_type": "markdown",
   "metadata": {},
   "source": [
    "\n",
    "\n",
    "**Exercise 2a)**\n",
    "\n",
    "Based on the tabulated values, calculate the Nernst potentials for the three ionic species.\n",
    "\n",
    "$$E_{\\rm X} = \\frac{RT}{zF}\\ln \\frac{[{\\rm X}]_{\\rm e}}{[{\\rm X}]_{\\rm i}}.$$\n",
    "\n",
    "Print out the potentials in units of millivolts."
   ]
  },
  {
   "cell_type": "code",
   "execution_count": null,
   "metadata": {},
   "outputs": [],
   "source": [
    "F = ...\n",
    "R = ...\n",
    "T = ...\n",
    "\n",
    "E_Na = R*T/F * np.log(.../...)\n",
    "E_K  = ...\n",
    "E_Ca = ..."
   ]
  },
  {
   "cell_type": "markdown",
   "metadata": {},
   "source": [
    "\n",
    "**Exercise 2b)**\n",
    "\n",
    "You have received two positive answers, and one negative. Explain why this is the case.\n"
   ]
  },
  {
   "cell_type": "markdown",
   "metadata": {},
   "source": [
    "**Exercise 2c)**\n",
    "\n",
    "Assume we have a membrane that is resting at a potential -80 mV. Sodium channels in the membrane now open, and sodium ions flow into the cell until the membrane potential reaches a new equilibrium, this one at +40 mV. \n",
    "\n",
    "As the membrane behaves as a capacitor, the total charge that passes through the membrane can be approximated by\n",
    "$$\\Delta Q = C_m \\Delta V$$\n",
    "\n",
    "Use this formula to estimate the amount of charge that crosses the membrane if the membrane capacitance is 0.05 nF.\n"
   ]
  },
  {
   "cell_type": "code",
   "execution_count": null,
   "metadata": {},
   "outputs": [],
   "source": [
    "Cm = ...\n",
    "dV = ...\n",
    "dQ = ..."
   ]
  },
  {
   "cell_type": "markdown",
   "metadata": {},
   "source": [
    "**Exercise 2d)**\n",
    "\n",
    "You can use Faraday's constant to go from a given charge to the number of charged particles (in terms of mols):\n",
    "$$F = 96485 \\mbox{ C/mol}.$$\n",
    "Roughly how many Na$^+$-ions cross the membrane to change the membrane potential from -80 mV to +40 mv?\n"
   ]
  },
  {
   "cell_type": "code",
   "execution_count": null,
   "metadata": {},
   "outputs": [],
   "source": [
    "dNa = ..."
   ]
  },
  {
   "cell_type": "markdown",
   "metadata": {},
   "source": [
    "**Exercise 2e)**\n",
    "\n",
    "Assuming the cell has a total volume of 20 picoliters, how much does the sodium concentration change as a result of this?\n"
   ]
  },
  {
   "cell_type": "code",
   "execution_count": null,
   "metadata": {},
   "outputs": [],
   "source": [
    "V = ...\n",
    "dconc = ..."
   ]
  },
  {
   "cell_type": "markdown",
   "metadata": {},
   "source": [
    "**Exercise 2f)**\n",
    "\n",
    "In (2a) you found the Nernst potential for sodium for a cell under normal physiological conditions. Assume now that the intracellular sodium concentration of the cell has increased by 30%. How much does its Nernst potential change?"
   ]
  },
  {
   "cell_type": "code",
   "execution_count": null,
   "metadata": {},
   "outputs": [],
   "source": [
    "E_Na = R*T/F * np.log(.../...)\n",
    "print(f\"Original E_Na:              {E_Na:.1f} mV\")\n",
    "\n",
    "E_Na = R*T/F * np.log(.../...)\n",
    "print(f\"After 30% increase in Na:   {E_Na:.1f} mV\")"
   ]
  },
  {
   "cell_type": "markdown",
   "metadata": {},
   "source": [
    "**Exercise 2g)**\n",
    "\n",
    "Based on your answers to the last two exercises. Explain why the Nernst potential can be considered a constant, despite it being a function of the intracellular and extracellular concentrations."
   ]
  },
  {
   "cell_type": "markdown",
   "metadata": {},
   "source": [
    "#### Discussion on Exercise 2\n",
    "\n",
    "These back of the envelope calculations have shown us that (1) the ion concentration of sodium changes little, even when there is a big change in membrane potential, and (2) even a big change in ion concentration will lead to a relatively small change in the Nernst potential. The last point can be understood because it is only the logarithm of the concentrations that enter into the equation for the Nernst potential.\n",
    "\n",
    "The takeaway here is that while the Nernst potential is technically a variable that should change with changes in ion concentrations, in practice it will change so little that it can be considered a constant in a model. The one major exception to this is calcium, which has such a low initial intracellular concentration that the relative change can be as much as a thousandfold increase in concentration. We will get back to why the calcium concentration is so different from the other species later in the course."
   ]
  },
  {
   "cell_type": "markdown",
   "metadata": {},
   "source": [
    "<a id=\"3\"></a>\n",
    "### Exercise 3: The Equilibrium Membrane Potential\n",
    "\n",
    "Recall from the lecture that for a membrane only permeable to sodium, the membrane potential will be governed by the ODE\n",
    "$$C_{\\rm m}\\frac{{\\rm d}V}{{\\rm d}t} = - g_{\\rm Na} (V-E_{\\rm Na}).$$\n",
    "Where $C_{\\rm m}$ is the membrane potential, and $g_{\\rm Na}$ is the sodium conductance."
   ]
  },
  {
   "cell_type": "markdown",
   "metadata": {},
   "source": [
    "**Exercise 3a)**\n",
    "\n",
    "Solve this ODE numerically. \n",
    "\n",
    "Let $C_{\\rm m} = 0.05$ nF and $g_{\\rm Na}=0.005$ µS. Let the membrane potential be given in units of mV and time in units of ms. Make sure all units are compatible, and make any necessary changes.\n",
    "\n",
    "Assume an initial membrane potential of $V_0 = -80$ mV, and solve the ODE for $t\\in[0, 100]$ ms."
   ]
  },
  {
   "cell_type": "code",
   "execution_count": null,
   "metadata": {},
   "outputs": [],
   "source": [
    "import numpy as np\n",
    "import matplotlib.pyplot as plt\n",
    "from scipy.integrate import odeint"
   ]
  },
  {
   "cell_type": "code",
   "execution_count": null,
   "metadata": {},
   "outputs": [],
   "source": [
    "# Define the ODE\n",
    "def rhs(V, t, Cm, g_Na, E_Na):\n",
    "    dV_dt = ...\n",
    "    return dV_dt\n",
    "\n",
    "# Define the time array\n",
    "T = ...\n",
    "dt = ...\n",
    "time = ...\n",
    "\n",
    "# Define the parameters and initial condition\n",
    "Cm = ...\n",
    "g_Na = ...\n",
    "E_Na = ...\n",
    "params = (Cm, g_Na, E_Na)\n",
    "V0 = ...\n",
    "\n",
    "# Solve the ODE\n",
    "V = odeint(rhs, V0, time, params)"
   ]
  },
  {
   "cell_type": "code",
   "execution_count": null,
   "metadata": {},
   "outputs": [],
   "source": [
    "plt.plot(time, V)\n",
    "plt.axhline(E_Na, linestyle='--', color='black')\n",
    "plt.xlabel('Time [ms]')\n",
    "plt.ylabel('Membrane Potential [mV]')\n",
    "plt.show()"
   ]
  },
  {
   "cell_type": "markdown",
   "metadata": {},
   "source": [
    "**(Optional) Exercise 3b)**\n",
    "\n",
    "Solve the ODE by hand. What is the time constant in the exponential relaxation?\n",
    "* *Hint:* Using the subsitution $u = V-E_{\\rm Na}$ turns the equation into an exponential decay ODE, which is separable.\n",
    "\n",
    "(Solution is again in the markdown if you remove the comment)\n",
    "\n",
    "[//]: # (It is almost identical to what we solved earlier, and we carry out the same process. First we substitute $u = V-E_{\\rm Na}$ to find:\n",
    "$$\\frac{1}{u} \\frac{{\\rm d}u}{{\\rm d}t} = -\\frac{g_{\\rm Na}}{C_{\\rm m}}.$$\n",
    "Which is a separabel ODE, so we get\n",
    "$$u(t) = Ce^{-t\\cdot g_{\\rm Na}/C_{\\rm m}}.$$\n",
    "So we get\n",
    "$$V(t) = E_{\\rm Na} + (V_0 - E_{\\rm Na})e^{-t/\\tau},$$\n",
    "where $\\tau = g_{\\rm Na}/C_{\\rm m}$. So we see the solution is an exponential decay to the Nernst potential, with a time constant of $g_{\\rm Na}/C_{\\rm m}$. Thus, the bigger the conductance of the channels, the bigger the current, and the faster the change in potential, and the bigger the capacitance, the harder it is to change the membrane potential, so it takes longer.)"
   ]
  },
  {
   "cell_type": "markdown",
   "metadata": {},
   "source": [
    "**Exercise 3c)**\n",
    "\n",
    "Looking at the plot of the solution. Approximately how long does it take for the membrane potential to equilibriate? Compare this with your time constant from 3b (if you did it)."
   ]
  },
  {
   "cell_type": "code",
   "execution_count": null,
   "metadata": {},
   "outputs": [],
   "source": [
    "# your code here"
   ]
  },
  {
   "cell_type": "markdown",
   "metadata": {},
   "source": [
    "**Exercise 3d)**\n",
    "\n",
    "We now want to add a calcium current and a potassium current to the system. Recall that this gives the ODE\n",
    "$$C_{\\rm m}\\frac{{\\rm d}V}{{\\rm d}t} = -\\big[g_{\\rm Na} (V-E_{\\rm Na}) + g_{\\rm K} (V-E_{\\rm K}) + g_{\\rm Ca} (V-E_{\\rm Ca})\\big].$$\n",
    "\n",
    "Let $g_{\\rm Ca} = 0.002$ µS and $g_{\\rm K} = 0.05$ µS. Solve the equation from an initial potential of $V_0 = 0$ mV for $t \\in [0, 100]$ ms.\n"
   ]
  },
  {
   "cell_type": "code",
   "execution_count": null,
   "metadata": {},
   "outputs": [],
   "source": [
    "# Define the ODE\n",
    "def rhs(...):\n",
    "    dV_dt = ...\n",
    "    return dV_dt\n",
    "\n",
    "# Define the time array\n",
    "T = ...\n",
    "dt = ...\n",
    "time = np.arange(0, T, dt)\n",
    "\n",
    "# Define the parameters and initial condition\n",
    "Cm = ... # nF\n",
    "g_Na = ... # µS\n",
    "g_K = ... # µS\n",
    "g_Ca = ... # µS\n",
    "params = (...)\n",
    "V0 = ... # mV\n",
    "\n",
    "# Solve the ODE\n",
    "V = odeint(...)"
   ]
  },
  {
   "cell_type": "markdown",
   "metadata": {},
   "source": [
    "**Exercise 3e)**\n",
    "\n",
    "Plot your solution. What is the equilibrium potential of the system now? Explain why. Does the initial membrane potential impact what the equilibrium potential is?"
   ]
  },
  {
   "cell_type": "code",
   "execution_count": null,
   "metadata": {},
   "outputs": [],
   "source": [
    "plt.plot(time, V)\n",
    "plt.axhline(E_Na, linestyle='--', color='grey')\n",
    "plt.axhline(E_Ca, linestyle='--', color='grey')\n",
    "plt.axhline(E_K, linestyle='--', color='grey')\n",
    "plt.xlabel('Time [ms]')\n",
    "plt.ylabel('Membrane Potential [mV]')\n",
    "plt.xlim(0, 100)\n",
    "plt.show()"
   ]
  },
  {
   "cell_type": "code",
   "execution_count": null,
   "metadata": {},
   "outputs": [],
   "source": [
    "print(f\"Equilibrium potential: {float(V[-1]):.1f} mV\")"
   ]
  },
  {
   "cell_type": "markdown",
   "metadata": {},
   "source": [
    "**Exercise 3f)**\n",
    "\n",
    "The resting membrane potential of the cell is around -80 mV. This is very close to the Nernst potential of potassium, but far from those of sodium and calcium. It is thus reasonable to say that a cell at rest must be much more permeable to potassium, than either of the other two species.\n",
    "\n",
    "Run the cell below, and use the widget to estimate roughly how much stronger the potassium conductance is than the other two species for a cell at rest. (You might need to run the cell twice for it to work)."
   ]
  },
  {
   "cell_type": "code",
   "execution_count": null,
   "metadata": {
    "scrolled": false
   },
   "outputs": [],
   "source": [
    "from widget.L3_widgets import MembraneWidget\n",
    "MembraneWidget().display()"
   ]
  }
 ],
 "metadata": {
  "kernelspec": {
   "display_name": "Python 3",
   "language": "python",
   "name": "python3"
  },
  "language_info": {
   "codemirror_mode": {
    "name": "ipython",
    "version": 3
   },
   "file_extension": ".py",
   "mimetype": "text/x-python",
   "name": "python",
   "nbconvert_exporter": "python",
   "pygments_lexer": "ipython3",
   "version": "3.7.4"
  },
  "widgets": {
   "state": {
    "f67b22bc88764229a6bb49601156df75": {
     "views": [
      {
       "cell_index": 30
      }
     ]
    }
   },
   "version": "1.2.0"
  }
 },
 "nbformat": 4,
 "nbformat_minor": 2
}
