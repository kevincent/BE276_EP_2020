{
 "cells": [
  {
   "cell_type": "markdown",
   "metadata": {},
   "source": [
    "# Building ion current models from data \n",
    "\n",
    "In this exercise we will explore some of the challenges that come with optimizing a model to data. We'll use a moderately complex model for the ultra-rapidly activating delayed rectifier current ($I_{\\rm{Kur}}$). This model is simple in the sense that it has identical rate constants for each activating and deactivating transition, and it is linear. However, you'll see that there are still 12 parameters that can be varied during the fitting process, which can make for challenges in hand tuning the model to a simple activation curve."
   ]
  },
  {
   "cell_type": "markdown",
   "metadata": {},
   "source": [
    "We are using a 5-state Markov model published by Zhou et al. 2012:\n",
    "\n",
    "<img src=\"fig/Model.svg\" width=400>\n",
    "\n",
    "Where: $$\\alpha{} = e^{\\frac{V-P1}{P2}}$$.\n",
    "$$\\beta{} = \\frac{e^{\\frac{V-P3}{P4}}\\cdot{}e^{\\frac{-(V-P5)}{P6}}}{P7+P8\\cdot{}e^{\\frac{-(V-P9)}{P10}}}$$.\n",
    "$$ K_1 = const_1 $$\n",
    "$$ K_2 = const_2 $$\n",
    "\n",
    "Below we will take some time to try to fit this model just to some activation data for this current. In this case we have also allowed the peak conductance ($g_K$) to be a free parameter for your tuning. See how close you can get to the experimental data."
   ]
  },
  {
   "cell_type": "markdown",
   "metadata": {},
   "source": [
    "## Exercise 1: Fitting ionic model parameters\n",
    "### Hand tuning model parameters"
   ]
  },
  {
   "cell_type": "code",
   "execution_count": null,
   "metadata": {},
   "outputs": [],
   "source": [
    "import numpy as np\n",
    "import matplotlib.pylab as plt\n",
    "%matplotlib inline\n",
    "import scipy.optimize as opt\n",
    "import math"
   ]
  },
  {
   "cell_type": "code",
   "execution_count": null,
   "metadata": {},
   "outputs": [],
   "source": [
    "from ipywidgets import interact, FloatSlider\n",
    "from widget.ObFunc import f, Activation\n",
    "import widget.K_widget as K\n",
    "import importlib"
   ]
  },
  {
   "cell_type": "code",
   "execution_count": null,
   "metadata": {},
   "outputs": [],
   "source": [
    "importlib.reload(K)\n",
    "K.Markov_Widget()"
   ]
  },
  {
   "cell_type": "markdown",
   "metadata": {},
   "source": [
    "You can probably see that this model is underdetermined and that there are far more parameters than necessary or helpful for fitting this activation curve. What do you think is the reason for this?"
   ]
  },
  {
   "cell_type": "markdown",
   "metadata": {},
   "source": [
    "### Algorithmic optimization to find parameters\n",
    "Next we will employ a commonly-used algorithm (the Nelder-Mead simplex, or AMOEBA) to optimize the parameter set, and see if it can beat you for accuracy. This algorithm is a form of derivative-free approach to optimization our voltage clamp activation function: "
   ]
  },
  {
   "cell_type": "raw",
   "metadata": {},
   "source": [
    "# def Activation(P,V,duration):\n",
    "\n",
    "    'runs activation voltage protocol on the model'\n",
    "    'P is the vector of parameters [P1... P13]'\n",
    "    'V is the voltage at each step of the protocol [V1... V15]'\n",
    "    'duration is a variable specifying the length of each voltage clamp...\n",
    "    step in time - 1000 ms is conventional'\n",
    "    \n",
    "    return out = {'t':t, 'Po':Po,'I_peak':model_peaks} "
   ]
  },
  {
   "cell_type": "markdown",
   "metadata": {},
   "source": [
    "First let's specify the experimental data you will use for fitting:"
   ]
  },
  {
   "cell_type": "code",
   "execution_count": null,
   "metadata": {},
   "outputs": [],
   "source": [
    "SSA_data = np.loadtxt(\"widget/SS.txt\",dtype='float')\n",
    "\n",
    "V = SSA_data[:,0] # voltage\n",
    "I = SSA_data[:,1] # current"
   ]
  },
  {
   "cell_type": "markdown",
   "metadata": {},
   "source": [
    "Next we have to define a cost function for comparing the model generated data and the experimental data we have imported."
   ]
  },
  {
   "cell_type": "code",
   "execution_count": null,
   "metadata": {},
   "outputs": [],
   "source": [
    "def cost(P,V,I,duration):\n",
    "    \n",
    "    P = P.tolist() # Opt.fmin returns an array every iteration...\n",
    "                    # but we pass a list to Activation, so we need to typeset.\n",
    "    outs = Activation(P,V,duration)\n",
    "    model_peaks = outs['I_peak']\n",
    "       \n",
    "    dev_vector = model_peaks - I\n",
    "    error = np.linalg.norm(dev_vector,2) # calculating the error as the L2 norm\n",
    "    \n",
    "    return error"
   ]
  },
  {
   "cell_type": "markdown",
   "metadata": {},
   "source": [
    "Run the optimization and see how it performs:"
   ]
  },
  {
   "cell_type": "code",
   "execution_count": null,
   "metadata": {},
   "outputs": [],
   "source": [
    "step_length = 1000\n",
    "default_params = [45,20,65,50,20,15,1,0.02,29,15,1e-5,1e-5,0.4]\n",
    "init_params = [...]# insert your parameter set as a starting point\n",
    "\n",
    "[P_opt, f_opt, iters, funcalls, warnflag] = opt.fmin(cost, init_params, args=(V,I,step_length), maxiter = 200, maxfun = 200, full_output=True, disp=True)\n",
    "P_opt = P_opt.tolist()"
   ]
  },
  {
   "cell_type": "markdown",
   "metadata": {},
   "source": [
    "Finally plot your optimized data compared to the experimental data below. Did the algorithm do better than your hand tuning?"
   ]
  },
  {
   "cell_type": "code",
   "execution_count": null,
   "metadata": {},
   "outputs": [],
   "source": [
    "opt_out = Activation(P_opt,V,step_length)\n",
    "opt_model_I = opt_out['I_peak']\n",
    "hand_out = Activation(init_params,V,step_length)\n",
    "hand_model_I = hand_out['I_peak']\n",
    "default_out = Activation(default_params,V,step_length)\n",
    "default_model_I = default_out['I_peak']\n",
    "\n",
    "plt.figure()\n",
    "plt.plot(V,I,'b-')\n",
    "plt.plot(V,opt_model_I,'r-')\n",
    "plt.plot(V,hand_model_I,'k-')\n",
    "plt.plot(V,default_model_I,'g-')\n",
    "plt.xlabel('Step potential [mV]')\n",
    "plt.ylabel('Current (A/F)')\n",
    "plt.legend(['Expirement','Optimized','Hand-tuned','Default'])\n",
    "\n",
    "print(f'Cost for default parameters = {cost(np.array(default_params),V,I,step_length):.5f}')\n",
    "print(f'Cost for manually trained parameters = {cost(np.array(init_params),V,I,step_length):.5f}')\n",
    "print(f'Cost for optimized parameters = {f_opt:.5f}')"
   ]
  },
  {
   "cell_type": "markdown",
   "metadata": {},
   "source": [
    "<a id=\"2\"></a>\n",
    "# Combining ion current models in the action potential \n",
    "\n",
    "Next we will explore how the major cardiac currents contribute to differences in the atrial and ventricular action potentials and hoping to achieve some intuitive understanding of what the defining currents are in each of these tissues. \n",
    "\n",
    "First we need to get a little more familiar with what one of these models looks like. The process for constructing an action potential model from the many ion channels, tranporters, and buffer models that make a cell, is an extension of what you have already learned from the earlier exercises.\n",
    "\n",
    "You need:\n",
    "1. Your system of equations (from which you formulate the RHS)\n",
    "2. An initial condition (starting values for each variable in the RHS)\n",
    "3. The collection of parameters (generally constants) necessary to calculate the RHS \n",
    "4. A time vector over which to integrate the system"
   ]
  },
  {
   "cell_type": "markdown",
   "metadata": {},
   "source": [
    "## Exercise 2: the Hodgkin-Huxley model\n",
    "\n",
    "We'll look first at the Hodgkin-Huxley model. It has an activation gated ($n$) ${\\rm K}^+$  current, a ${\\rm Na}^+$ current with both activation ($m$) and inactivation ($h$) gates, a small nondescript leak current ($I_{\\rm L}$) to maintain resting potential, and it accepts a stimulus current $I_{\\rm app}$:\n",
    "$$C_{\\rm m}\\frac{{\\rm d}V}{{\\rm d}t} = -(g_{\\rm Na} m^3h(V-E_{\\rm Na}) + g_{\\rm K} n^4(V-E_{\\rm K}) + g_{\\rm L}(V-E_{\\rm L}) + I_{\\rm app}).$$\n",
    "\n",
    "where $m$ is controlled by:\n",
    "$$ \\frac{{\\rm d}m}{{\\rm d}t} = \\alpha_m (1-m)-\\beta_m m$$\n",
    "\n",
    "$h$ is controlled by:\n",
    "$$ \\frac{{\\rm d}h}{{\\rm d}t} = \\alpha_h (1-h)-\\beta_h h$$\n",
    "\n",
    "and $n$ is controlled by:\n",
    "$$ \\frac{{\\rm d}n}{{\\rm d}t} = \\alpha_n (1-n)-\\beta_n n$$\n",
    "\n",
    "First some tools and then we start with the right hand side:"
   ]
  },
  {
   "cell_type": "code",
   "execution_count": null,
   "metadata": {},
   "outputs": [],
   "source": [
    "# Import necessary packages\n",
    "import numpy as np\n",
    "from math import exp \n",
    "import matplotlib.pylab as plt\n",
    "%matplotlib inline\n",
    "from scipy.integrate import odeint"
   ]
  },
  {
   "cell_type": "code",
   "execution_count": null,
   "metadata": {},
   "outputs": [],
   "source": [
    "def rhs(y,t,p):\n",
    "    \n",
    "    # unpack the solution vector\n",
    "    m, h, n, V = y \n",
    "    \n",
    "    # unpack the passed parameters\n",
    "    Cm = p['Cm']\n",
    "    E_Na = p['E_Na']\n",
    "    E_K = p['E_K']\n",
    "    E_L = p['E_L']\n",
    "    gNa = p['gNa']\n",
    "    gK = p['gK']\n",
    "    gL = p['gL']\n",
    "    I_amp = p['I_amp']\n",
    "    \n",
    "    # calculate the transition rates\n",
    "    alpha_m = 0.1*(V+40.0)/(1.0-np.exp(-(V+40.0)/10.0))\n",
    "    beta_m  = 4.0*np.exp(-(V+65.0)/18.0)\n",
    "    alpha_h = 0.07*np.exp(-(V+65.0)/20.0)\n",
    "    beta_h  = 1.0/(1.0+np.exp(-(V+35.0)/10.0))\n",
    "    alpha_n = 0.01*(V+55.0)/(1.0-np.exp(-(V+55.0)/10.0))\n",
    "    beta_n  = 0.125*np.exp(-(V+65)/80.0)\n",
    "\n",
    "    # calculate the currents\n",
    "    I_app = -I_amp if 2<t<4 else 0.0\n",
    "    I_Na = gNa*m**3*h*(V - E_Na)\n",
    "    I_K = gK*n**4*(V - E_K)\n",
    "    I_L = gL*(V - E_L)\n",
    "    \n",
    "    # calculate the derivatives\n",
    "    dm_dt = alpha_m*(1-m) - beta_m*(m)\n",
    "    dh_dt = alpha_h*(1-h) - beta_h*(h)\n",
    "    dn_dt = alpha_n*(1-n) - beta_n*(n)\n",
    "    dV_dt = -(I_Na + I_app + I_K)/Cm\n",
    "    \n",
    "    # assemble and return dy/dt\n",
    "    return[dm_dt,dh_dt,dn_dt,dV_dt]"
   ]
  },
  {
   "cell_type": "code",
   "execution_count": null,
   "metadata": {},
   "outputs": [],
   "source": [
    "#Initial conditions   \n",
    "m0 = 0\n",
    "h0 = 1\n",
    "n0 = 0\n",
    "V0 = -80\n",
    "y0 = [m0,h0,n0,V0]\n",
    "\n",
    "#Parameters\n",
    "p = {}\n",
    "p['Cm'] = 1.0 # uF/cm^2\n",
    "p['E_Na'] = 50 # mV\n",
    "p['E_K'] = -80 # mV\n",
    "p['E_L'] = -75 # mV\n",
    "p['gNa'] = 120 # mS/cm^2\n",
    "p['gK'] = 40 # mS/cm^2\n",
    "p['gL'] = 0.3 # mS/cm^2\n",
    "p['I_amp'] = 100 # uA/cm^2\n",
    "\n",
    "#The time vector\n",
    "time = np.linspace(0,20,1000)"
   ]
  },
  {
   "cell_type": "code",
   "execution_count": null,
   "metadata": {},
   "outputs": [],
   "source": [
    "# Run the model\n",
    "# Your code here:\n",
    "y = odeint(...)\n",
    "\n",
    "m = y[:,0]\n",
    "h = y[:,1]\n",
    "n = y[:,2]\n",
    "V = y[:,3]\n",
    "\n",
    "#Plot the voltage\n",
    "plt.subplot(1,2,1)\n",
    "plt.plot(...)\n",
    "#plot the state variables\n",
    "plt.subplot(1,2,2)\n",
    "plt.plot(...)"
   ]
  },
  {
   "cell_type": "markdown",
   "metadata": {},
   "source": [
    "Note that the length of the action potential.  Is this more consistent with a cardiac action potential or a neuronal action potential. Also recall Dr. McCulloch's description of the experimental system used to develop the model."
   ]
  },
  {
   "cell_type": "markdown",
   "metadata": {},
   "source": [
    "## Exercise 3: A more complex model...\n",
    "\n",
    "Next we'll work with a human ventricular myocyte model. This is one of several human-specific ventricular myocyte models, and was developed by Eleonora Grandi at UC Davis. The code we will run is slightly simplified from the published version, but still quite complex. It is generally difficult to interpret any new model, but getting used to looking for the necessary elements is the best way to start. Let's take a look:\n",
    "\n",
    "* [Grandi-Bers Ventricular RHS](widget/GBV_RHS.py)\n",
    "* [Grandi-Bers Ventricular Initialization](widget/GBV_D.py)\n",
    "* [Grandi-Bers Ventricular Run](widget/GBV_run.py)\n"
   ]
  },
  {
   "cell_type": "markdown",
   "metadata": {},
   "source": [
    "Our objective with this section is to develop some familiarity with how these cell models are structured, and some intuition for how the major currents in the ventricle and atria determine the integrated electrophysiology of the cell. Unfortunately we won't have a chance to look at complex effects, such as frequency-dependent outcomes, but we can at least gain a sense of how each current contributes to changes in action potential morphology.  \n",
    "\n",
    "First, some more tools."
   ]
  },
  {
   "cell_type": "code",
   "execution_count": null,
   "metadata": {},
   "outputs": [],
   "source": [
    "from ipywidgets import interact, FloatSlider, Dropdown\n",
    "import widget.L6_widgets as L6\n",
    "import importlib"
   ]
  },
  {
   "cell_type": "markdown",
   "metadata": {},
   "source": [
    "Now we'll load a widget that will let you inspect the behaviour of the ventricular AP model by changing the conductances of all the major sarcolemmal currents. \n",
    "\n",
    "*FIRST*: Answer some intuitive questions that you should already have a good idea about:\n",
    "\n",
    "1. What is the maximum reachable positive potential?\n",
    "2. Which current maintains a stable resting potential?\n",
    "3. Is it possible to make the human AP as short as a mouse AP (~30 ms)? How?\n",
    "4. Is it possible to prolong the AP by increasing a potassium channel conductance?\n",
    "5. Is it possible to increase the peak of the calcium transient by increasing a potassium channel conductance?\n",
    "6. How do INCX and INKa modulate repolarisation?\n",
    "7. What are the background currents (NaB, ClB, CaB)? Are they important?\n",
    "\n",
    "**See if the model agrees...**"
   ]
  },
  {
   "cell_type": "code",
   "execution_count": null,
   "metadata": {},
   "outputs": [],
   "source": [
    "importlib.reload(L6)\n",
    "L6.VentricularAPWidget()"
   ]
  },
  {
   "cell_type": "markdown",
   "metadata": {},
   "source": [
    "## Exercise 4: Reachable model configurations\n",
    "\n",
    "Because of the uncertainty in model construction, and variability in the underlying experimental data, it is always tempting to ask what are the major differences between models thought to represent different biological contexts. The next widget asks you to try to turn a ventricular cell into an atrial cell. We have made it somewhat easier by using an atrial model from the same authors. See how close you can get."
   ]
  },
  {
   "cell_type": "code",
   "execution_count": null,
   "metadata": {},
   "outputs": [],
   "source": [
    "importlib.reload(L6)\n",
    "L6.VentricularAPWidget2()"
   ]
  },
  {
   "cell_type": "markdown",
   "metadata": {},
   "source": [
    "### What about in the other direction?\n",
    "\n",
    "Is it possible to make the atrial model look like a ventricular cell?"
   ]
  },
  {
   "cell_type": "code",
   "execution_count": null,
   "metadata": {},
   "outputs": [],
   "source": [
    "importlib.reload(L6)\n",
    "L6.AtrialAPWidget()"
   ]
  }
 ],
 "metadata": {
  "kernelspec": {
   "display_name": "Python 3",
   "language": "python",
   "name": "python3"
  },
  "language_info": {
   "codemirror_mode": {
    "name": "ipython",
    "version": 3
   },
   "file_extension": ".py",
   "mimetype": "text/x-python",
   "name": "python",
   "nbconvert_exporter": "python",
   "pygments_lexer": "ipython3",
   "version": "3.7.4"
  }
 },
 "nbformat": 4,
 "nbformat_minor": 2
}
